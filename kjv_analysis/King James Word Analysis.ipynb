{
 "cells": [
  {
   "cell_type": "markdown",
   "metadata": {},
   "source": [
    "# King James Word Analysis\n",
    "\n",
    "### In this notebook we attempt to view interesting data/statistics from the words in the KJV of the bible\n",
    "1. Is it Zipfy? (https://en.wikipedia.org/wiki/Zipf%27s_law)\n",
    "2. What word is used most?\n",
    "3. What word is used least?\n",
    "4. How many different words are used?\n",
    "5. Which Characters are used Most and how Frequent?\n",
    "\n",
    "To accomplish this, we must do a few things first:\n",
    "1. Acquire a .txt file of the bible \n",
    "(http://www.gutenberg.org/ebooks/10)\n",
    "2. Clean the data then create a CSV file of the data so we don't have to repeat the calculations every time\n",
    "3. Do EDA on the data\n",
    "4. Create graphs and do whatever else."
   ]
  },
  {
   "cell_type": "code",
   "execution_count": 1,
   "metadata": {},
   "outputs": [],
   "source": [
    "import re\n",
    "import pandas as pd\n",
    "import matplotlib.pyplot as plt\n",
    "import numpy as np\n",
    "import seaborn"
   ]
  },
  {
   "cell_type": "code",
   "execution_count": 2,
   "metadata": {},
   "outputs": [],
   "source": [
    "with open('nkjv.txt','r') as file:\n",
    "    text = file.read().replace('\\n', ' ')"
   ]
  },
  {
   "cell_type": "code",
   "execution_count": 3,
   "metadata": {},
   "outputs": [],
   "source": [
    "def clean_data(data, char=False):\n",
    "    \"\"\"\n",
    "    We use regular expressions to get rid of all the verse chapter pairs (example 23:11) then regular string methods to\n",
    "    replace all the rest of the punctuation, then we put everything in lowercase so we don't count words that start\n",
    "    a sentance twice\n",
    "    \"\"\"\n",
    "    data = re.sub(r'\\d+:\\d+', ' ',data)\n",
    "    if char:\n",
    "        return data.lower()\n",
    "    else:\n",
    "        punc = ['.',',',';',':',')','(','!','?','\"','ï»¿','*']\n",
    "        for i in punc:\n",
    "            data = data.replace(i,'')\n",
    "        return data.lower()"
   ]
  },
  {
   "cell_type": "code",
   "execution_count": 4,
   "metadata": {},
   "outputs": [],
   "source": [
    "data = clean_data(text)\n",
    "data_list = data.split()\n",
    "unique_words = set(data_list)\n",
    "\n",
    "char_data = clean_data(text,char=True)\n",
    "unique_char = list(set(char_data))"
   ]
  },
  {
   "cell_type": "code",
   "execution_count": 5,
   "metadata": {},
   "outputs": [
    {
     "data": {
      "text/plain": [
       "(790017, 12860, 4229002, 41)"
      ]
     },
     "execution_count": 5,
     "metadata": {},
     "output_type": "execute_result"
    }
   ],
   "source": [
    "len(data_list),len(unique_words),len(char_data),len(unique_char)"
   ]
  },
  {
   "cell_type": "code",
   "execution_count": 6,
   "metadata": {},
   "outputs": [],
   "source": [
    "def make_dictionary(words,unique):\n",
    "    \"\"\"\n",
    "    This is the function that originally created the counter dictionary that we used to make our CSV file, becuase it \n",
    "    takes a while to run I only ran this initially and used the CSV file for all future analysis\n",
    "    \"\"\"\n",
    "    counter_dictionary = {}\n",
    "    for word in unique:\n",
    "        counter_dictionary[word] = words.count(unique)\n",
    "    return counter_dictionary\n",
    "\n",
    "# If someone in the Future is running this for themselves just remove the comment on the next line\n",
    "# counter_dictionary = make_dictionary(data_list,unique_words)"
   ]
  },
  {
   "cell_type": "code",
   "execution_count": 7,
   "metadata": {},
   "outputs": [],
   "source": [
    "def make_csv(dictionary):\n",
    "    \"\"\"\n",
    "    This simply takes the make_dictionary function and returns a usable CSV file so it doesn't have to rerun all\n",
    "    the calculations every time I would like to open this file\n",
    "    \"\"\"\n",
    "    counts= [list(x) for x in counter_dictionary.items()]\n",
    "    df = pd.DataFrame(counts,columns=['words','count'])\n",
    "    df.to_csv('word_count.csv',index=False)\n",
    "# make_csv(counter_dictionary)"
   ]
  },
  {
   "cell_type": "code",
   "execution_count": 8,
   "metadata": {},
   "outputs": [],
   "source": [
    "# This creates my df object made from the previous functions and adds on some useful columns\n",
    "df = pd.read_csv('word_count.csv')\n",
    "df.sort_values(by='count',inplace=True,ascending=False)\n",
    "df.reset_index(drop=True,inplace=True)\n",
    "\n",
    "percent = [(x/len(data_list))*100 for x in df['count']]\n",
    "df['%'] = percent\n",
    "\n",
    "cumulative_sum = df['%'].cumsum()\n",
    "df['cs'] = cumulative_sum"
   ]
  },
  {
   "cell_type": "code",
   "execution_count": 9,
   "metadata": {},
   "outputs": [
    {
     "data": {
      "text/html": [
       "<div>\n",
       "<style scoped>\n",
       "    .dataframe tbody tr th:only-of-type {\n",
       "        vertical-align: middle;\n",
       "    }\n",
       "\n",
       "    .dataframe tbody tr th {\n",
       "        vertical-align: top;\n",
       "    }\n",
       "\n",
       "    .dataframe thead th {\n",
       "        text-align: right;\n",
       "    }\n",
       "</style>\n",
       "<table border=\"1\" class=\"dataframe\">\n",
       "  <thead>\n",
       "    <tr style=\"text-align: right;\">\n",
       "      <th></th>\n",
       "      <th>words</th>\n",
       "      <th>count</th>\n",
       "      <th>%</th>\n",
       "      <th>cs</th>\n",
       "    </tr>\n",
       "  </thead>\n",
       "  <tbody>\n",
       "    <tr>\n",
       "      <th>0</th>\n",
       "      <td>the</td>\n",
       "      <td>64020</td>\n",
       "      <td>8.103623</td>\n",
       "      <td>8.103623</td>\n",
       "    </tr>\n",
       "    <tr>\n",
       "      <th>1</th>\n",
       "      <td>and</td>\n",
       "      <td>51696</td>\n",
       "      <td>6.543657</td>\n",
       "      <td>14.647280</td>\n",
       "    </tr>\n",
       "    <tr>\n",
       "      <th>2</th>\n",
       "      <td>of</td>\n",
       "      <td>34668</td>\n",
       "      <td>4.388260</td>\n",
       "      <td>19.035540</td>\n",
       "    </tr>\n",
       "    <tr>\n",
       "      <th>3</th>\n",
       "      <td>to</td>\n",
       "      <td>13580</td>\n",
       "      <td>1.718950</td>\n",
       "      <td>20.754490</td>\n",
       "    </tr>\n",
       "    <tr>\n",
       "      <th>4</th>\n",
       "      <td>that</td>\n",
       "      <td>12912</td>\n",
       "      <td>1.634395</td>\n",
       "      <td>22.388885</td>\n",
       "    </tr>\n",
       "  </tbody>\n",
       "</table>\n",
       "</div>"
      ],
      "text/plain": [
       "  words  count         %         cs\n",
       "0   the  64020  8.103623   8.103623\n",
       "1   and  51696  6.543657  14.647280\n",
       "2    of  34668  4.388260  19.035540\n",
       "3    to  13580  1.718950  20.754490\n",
       "4  that  12912  1.634395  22.388885"
      ]
     },
     "execution_count": 9,
     "metadata": {},
     "output_type": "execute_result"
    }
   ],
   "source": [
    "df.head()"
   ]
  },
  {
   "cell_type": "code",
   "execution_count": 10,
   "metadata": {},
   "outputs": [],
   "source": [
    "percentages = [x for x in df['%']]\n",
    "words = [x for x in df['words']]"
   ]
  },
  {
   "cell_type": "code",
   "execution_count": 11,
   "metadata": {},
   "outputs": [
    {
     "data": {
      "image/png": "[encoded data removed]",
      "text/plain": [
       "<Figure size 1440x864 with 1 Axes>"
      ]
     },
     "metadata": {},
     "output_type": "display_data"
    }
   ],
   "source": [
    "plt.style.use('seaborn-whitegrid')\n",
    "plt.figure(figsize=(20,12))\n",
    "plt.plot(percentages,marker='o')\n",
    "plt.axis([-1,50,0,10])\n",
    "plt.title('First 50 King James Word Frequency')\n",
    "plt.xlabel('Word')\n",
    "plt.ylabel('Percentage of entire bible');"
   ]
  },
  {
   "cell_type": "code",
   "execution_count": 12,
   "metadata": {},
   "outputs": [
    {
     "data": {
      "text/html": [
       "<div>\n",
       "<style scoped>\n",
       "    .dataframe tbody tr th:only-of-type {\n",
       "        vertical-align: middle;\n",
       "    }\n",
       "\n",
       "    .dataframe tbody tr th {\n",
       "        vertical-align: top;\n",
       "    }\n",
       "\n",
       "    .dataframe thead th {\n",
       "        text-align: right;\n",
       "    }\n",
       "</style>\n",
       "<table border=\"1\" class=\"dataframe\">\n",
       "  <thead>\n",
       "    <tr style=\"text-align: right;\">\n",
       "      <th></th>\n",
       "      <th>words</th>\n",
       "      <th>count</th>\n",
       "      <th>%</th>\n",
       "      <th>cs</th>\n",
       "    </tr>\n",
       "  </thead>\n",
       "  <tbody>\n",
       "    <tr>\n",
       "      <th>41</th>\n",
       "      <td>this</td>\n",
       "      <td>2785</td>\n",
       "      <td>0.352524</td>\n",
       "      <td>50.004367</td>\n",
       "    </tr>\n",
       "  </tbody>\n",
       "</table>\n",
       "</div>"
      ],
      "text/plain": [
       "   words  count         %         cs\n",
       "41  this   2785  0.352524  50.004367"
      ]
     },
     "execution_count": 12,
     "metadata": {},
     "output_type": "execute_result"
    }
   ],
   "source": [
    "df.loc[df['cs'] >= 50].head(1)\n",
    "# only 41 words account for over half of the bible!"
   ]
  },
  {
   "cell_type": "code",
   "execution_count": 13,
   "metadata": {
    "scrolled": false
   },
   "outputs": [
    {
     "data": {
      "image/png": "[encoded data removed]",
      "text/plain": [
       "<Figure size 1440x864 with 1 Axes>"
      ]
     },
     "metadata": {},
     "output_type": "display_data"
    }
   ],
   "source": [
    "ax = df['cs'].plot(style='.-',markevery=5,figsize=(20,12));\n",
    "ax.set_xlabel(\"x label\")\n",
    "ax.set_ylabel(\"y label\");"
   ]
  },
  {
   "cell_type": "code",
   "execution_count": 14,
   "metadata": {},
   "outputs": [
    {
     "data": {
      "text/html": [
       "<div>\n",
       "<style scoped>\n",
       "    .dataframe tbody tr th:only-of-type {\n",
       "        vertical-align: middle;\n",
       "    }\n",
       "\n",
       "    .dataframe tbody tr th {\n",
       "        vertical-align: top;\n",
       "    }\n",
       "\n",
       "    .dataframe thead th {\n",
       "        text-align: right;\n",
       "    }\n",
       "</style>\n",
       "<table border=\"1\" class=\"dataframe\">\n",
       "  <thead>\n",
       "    <tr style=\"text-align: right;\">\n",
       "      <th></th>\n",
       "      <th>words</th>\n",
       "      <th>count</th>\n",
       "      <th>%</th>\n",
       "      <th>cs</th>\n",
       "    </tr>\n",
       "  </thead>\n",
       "  <tbody>\n",
       "    <tr>\n",
       "      <th>206</th>\n",
       "      <td>seven</td>\n",
       "      <td>463</td>\n",
       "      <td>0.058606</td>\n",
       "      <td>72.697043</td>\n",
       "    </tr>\n",
       "  </tbody>\n",
       "</table>\n",
       "</div>"
      ],
      "text/plain": [
       "     words  count         %         cs\n",
       "206  seven    463  0.058606  72.697043"
      ]
     },
     "execution_count": 14,
     "metadata": {},
     "output_type": "execute_result"
    }
   ],
   "source": [
    "# We can use this cell to check out some individual words by replacing anything after the equality\n",
    "df.loc[df['words'] == 'seven']"
   ]
  },
  {
   "cell_type": "code",
   "execution_count": 15,
   "metadata": {},
   "outputs": [
    {
     "data": {
      "text/plain": [
       "4100"
      ]
     },
     "execution_count": 15,
     "metadata": {},
     "output_type": "execute_result"
    }
   ],
   "source": [
    "# We can check how many words share the same count\n",
    "len(df.loc[df['count'] == 1])"
   ]
  },
  {
   "cell_type": "code",
   "execution_count": 16,
   "metadata": {},
   "outputs": [],
   "source": [
    "t1,t2 = [],[]\n",
    "for i in range(1,1000):\n",
    "    t1.append(i)\n",
    "    t2.append(len(df.loc[df['count'] == i]))"
   ]
  },
  {
   "cell_type": "code",
   "execution_count": 17,
   "metadata": {},
   "outputs": [
    {
     "data": {
      "image/png": "[encoded data removed]",
      "text/plain": [
       "<Figure size 1440x864 with 1 Axes>"
      ]
     },
     "metadata": {},
     "output_type": "display_data"
    }
   ],
   "source": [
    "plt.figure(figsize=(20,12))\n",
    "plt.bar(t1,t2)\n",
    "plt.axis([-1,150,0,4100])\n",
    "plt.title('Words Per Count')\n",
    "plt.xlabel('Times a word was used')\n",
    "plt.ylabel('How many different words for each count');"
   ]
  },
  {
   "cell_type": "code",
   "execution_count": 18,
   "metadata": {},
   "outputs": [],
   "source": [
    "def make_char_dataframe(data,unique):\n",
    "    character_dictionary = {}\n",
    "    for char in unique:\n",
    "        character_dictionary[char] = data.count(char)\n",
    "    df = pd.DataFrame([list(x) for x in character_dictionary.items()],columns=['char','frequency'])\n",
    "    df.sort_values(by='frequency',inplace=True,ascending=False)\n",
    "    df.reset_index(drop=True,inplace=True)\n",
    "    return df"
   ]
  },
  {
   "cell_type": "code",
   "execution_count": 19,
   "metadata": {},
   "outputs": [],
   "source": [
    "cf = make_char_dataframe(char_data,unique_char)\n",
    "cf['%'] = [x/len(char_data)*100 for x in cf['frequency']]\n",
    "cf['c%'] = cf['%'].cumsum()"
   ]
  },
  {
   "cell_type": "code",
   "execution_count": 20,
   "metadata": {},
   "outputs": [
    {
     "data": {
      "text/html": [
       "<div>\n",
       "<style scoped>\n",
       "    .dataframe tbody tr th:only-of-type {\n",
       "        vertical-align: middle;\n",
       "    }\n",
       "\n",
       "    .dataframe tbody tr th {\n",
       "        vertical-align: top;\n",
       "    }\n",
       "\n",
       "    .dataframe thead th {\n",
       "        text-align: right;\n",
       "    }\n",
       "</style>\n",
       "<table border=\"1\" class=\"dataframe\">\n",
       "  <thead>\n",
       "    <tr style=\"text-align: right;\">\n",
       "      <th></th>\n",
       "      <th>char</th>\n",
       "      <th>frequency</th>\n",
       "      <th>%</th>\n",
       "      <th>c%</th>\n",
       "    </tr>\n",
       "  </thead>\n",
       "  <tbody>\n",
       "    <tr>\n",
       "      <th>0</th>\n",
       "      <td></td>\n",
       "      <td>879099</td>\n",
       "      <td>20.787387</td>\n",
       "      <td>20.787387</td>\n",
       "    </tr>\n",
       "    <tr>\n",
       "      <th>1</th>\n",
       "      <td>e</td>\n",
       "      <td>410407</td>\n",
       "      <td>9.704583</td>\n",
       "      <td>30.491970</td>\n",
       "    </tr>\n",
       "    <tr>\n",
       "      <th>2</th>\n",
       "      <td>t</td>\n",
       "      <td>316225</td>\n",
       "      <td>7.477533</td>\n",
       "      <td>37.969502</td>\n",
       "    </tr>\n",
       "    <tr>\n",
       "      <th>3</th>\n",
       "      <td>h</td>\n",
       "      <td>282154</td>\n",
       "      <td>6.671881</td>\n",
       "      <td>44.641383</td>\n",
       "    </tr>\n",
       "    <tr>\n",
       "      <th>4</th>\n",
       "      <td>a</td>\n",
       "      <td>274726</td>\n",
       "      <td>6.496237</td>\n",
       "      <td>51.137621</td>\n",
       "    </tr>\n",
       "    <tr>\n",
       "      <th>5</th>\n",
       "      <td>o</td>\n",
       "      <td>241850</td>\n",
       "      <td>5.718843</td>\n",
       "      <td>56.856464</td>\n",
       "    </tr>\n",
       "    <tr>\n",
       "      <th>6</th>\n",
       "      <td>n</td>\n",
       "      <td>224030</td>\n",
       "      <td>5.297467</td>\n",
       "      <td>62.153931</td>\n",
       "    </tr>\n",
       "    <tr>\n",
       "      <th>7</th>\n",
       "      <td>i</td>\n",
       "      <td>192838</td>\n",
       "      <td>4.559894</td>\n",
       "      <td>66.713825</td>\n",
       "    </tr>\n",
       "    <tr>\n",
       "      <th>8</th>\n",
       "      <td>s</td>\n",
       "      <td>189267</td>\n",
       "      <td>4.475453</td>\n",
       "      <td>71.189278</td>\n",
       "    </tr>\n",
       "    <tr>\n",
       "      <th>9</th>\n",
       "      <td>r</td>\n",
       "      <td>169168</td>\n",
       "      <td>4.000187</td>\n",
       "      <td>75.189466</td>\n",
       "    </tr>\n",
       "    <tr>\n",
       "      <th>10</th>\n",
       "      <td>d</td>\n",
       "      <td>157573</td>\n",
       "      <td>3.726009</td>\n",
       "      <td>78.915475</td>\n",
       "    </tr>\n",
       "    <tr>\n",
       "      <th>11</th>\n",
       "      <td>l</td>\n",
       "      <td>129452</td>\n",
       "      <td>3.061053</td>\n",
       "      <td>81.976528</td>\n",
       "    </tr>\n",
       "    <tr>\n",
       "      <th>12</th>\n",
       "      <td>f</td>\n",
       "      <td>83158</td>\n",
       "      <td>1.966374</td>\n",
       "      <td>83.942902</td>\n",
       "    </tr>\n",
       "    <tr>\n",
       "      <th>13</th>\n",
       "      <td>u</td>\n",
       "      <td>82970</td>\n",
       "      <td>1.961929</td>\n",
       "      <td>85.904831</td>\n",
       "    </tr>\n",
       "    <tr>\n",
       "      <th>14</th>\n",
       "      <td>m</td>\n",
       "      <td>79573</td>\n",
       "      <td>1.881602</td>\n",
       "      <td>87.786433</td>\n",
       "    </tr>\n",
       "    <tr>\n",
       "      <th>15</th>\n",
       "      <td>,</td>\n",
       "      <td>70573</td>\n",
       "      <td>1.668786</td>\n",
       "      <td>89.455219</td>\n",
       "    </tr>\n",
       "    <tr>\n",
       "      <th>16</th>\n",
       "      <td>w</td>\n",
       "      <td>65218</td>\n",
       "      <td>1.542161</td>\n",
       "      <td>90.997380</td>\n",
       "    </tr>\n",
       "    <tr>\n",
       "      <th>17</th>\n",
       "      <td>y</td>\n",
       "      <td>58254</td>\n",
       "      <td>1.377488</td>\n",
       "      <td>92.374868</td>\n",
       "    </tr>\n",
       "    <tr>\n",
       "      <th>18</th>\n",
       "      <td>g</td>\n",
       "      <td>54880</td>\n",
       "      <td>1.297706</td>\n",
       "      <td>93.672573</td>\n",
       "    </tr>\n",
       "    <tr>\n",
       "      <th>19</th>\n",
       "      <td>c</td>\n",
       "      <td>54474</td>\n",
       "      <td>1.288105</td>\n",
       "      <td>94.960679</td>\n",
       "    </tr>\n",
       "    <tr>\n",
       "      <th>20</th>\n",
       "      <td>b</td>\n",
       "      <td>48589</td>\n",
       "      <td>1.148947</td>\n",
       "      <td>96.109626</td>\n",
       "    </tr>\n",
       "    <tr>\n",
       "      <th>21</th>\n",
       "      <td>p</td>\n",
       "      <td>42810</td>\n",
       "      <td>1.012296</td>\n",
       "      <td>97.121921</td>\n",
       "    </tr>\n",
       "    <tr>\n",
       "      <th>22</th>\n",
       "      <td>v</td>\n",
       "      <td>30252</td>\n",
       "      <td>0.715346</td>\n",
       "      <td>97.837268</td>\n",
       "    </tr>\n",
       "    <tr>\n",
       "      <th>23</th>\n",
       "      <td>.</td>\n",
       "      <td>26202</td>\n",
       "      <td>0.619579</td>\n",
       "      <td>98.456846</td>\n",
       "    </tr>\n",
       "    <tr>\n",
       "      <th>24</th>\n",
       "      <td>k</td>\n",
       "      <td>22151</td>\n",
       "      <td>0.523788</td>\n",
       "      <td>98.980634</td>\n",
       "    </tr>\n",
       "    <tr>\n",
       "      <th>25</th>\n",
       "      <td>:</td>\n",
       "      <td>12706</td>\n",
       "      <td>0.300449</td>\n",
       "      <td>99.281083</td>\n",
       "    </tr>\n",
       "    <tr>\n",
       "      <th>26</th>\n",
       "      <td>;</td>\n",
       "      <td>10139</td>\n",
       "      <td>0.239749</td>\n",
       "      <td>99.520833</td>\n",
       "    </tr>\n",
       "    <tr>\n",
       "      <th>27</th>\n",
       "      <td>j</td>\n",
       "      <td>8793</td>\n",
       "      <td>0.207921</td>\n",
       "      <td>99.728754</td>\n",
       "    </tr>\n",
       "    <tr>\n",
       "      <th>28</th>\n",
       "      <td>?</td>\n",
       "      <td>3297</td>\n",
       "      <td>0.077962</td>\n",
       "      <td>99.806716</td>\n",
       "    </tr>\n",
       "    <tr>\n",
       "      <th>29</th>\n",
       "      <td>z</td>\n",
       "      <td>2970</td>\n",
       "      <td>0.070229</td>\n",
       "      <td>99.876945</td>\n",
       "    </tr>\n",
       "    <tr>\n",
       "      <th>30</th>\n",
       "      <td>'</td>\n",
       "      <td>2017</td>\n",
       "      <td>0.047694</td>\n",
       "      <td>99.924639</td>\n",
       "    </tr>\n",
       "    <tr>\n",
       "      <th>31</th>\n",
       "      <td>x</td>\n",
       "      <td>1450</td>\n",
       "      <td>0.034287</td>\n",
       "      <td>99.958926</td>\n",
       "    </tr>\n",
       "    <tr>\n",
       "      <th>32</th>\n",
       "      <td>q</td>\n",
       "      <td>953</td>\n",
       "      <td>0.022535</td>\n",
       "      <td>99.981461</td>\n",
       "    </tr>\n",
       "    <tr>\n",
       "      <th>33</th>\n",
       "      <td>!</td>\n",
       "      <td>313</td>\n",
       "      <td>0.007401</td>\n",
       "      <td>99.988863</td>\n",
       "    </tr>\n",
       "    <tr>\n",
       "      <th>34</th>\n",
       "      <td>(</td>\n",
       "      <td>221</td>\n",
       "      <td>0.005226</td>\n",
       "      <td>99.994088</td>\n",
       "    </tr>\n",
       "    <tr>\n",
       "      <th>35</th>\n",
       "      <td>)</td>\n",
       "      <td>221</td>\n",
       "      <td>0.005226</td>\n",
       "      <td>99.999314</td>\n",
       "    </tr>\n",
       "    <tr>\n",
       "      <th>36</th>\n",
       "      <td>-</td>\n",
       "      <td>23</td>\n",
       "      <td>0.000544</td>\n",
       "      <td>99.999858</td>\n",
       "    </tr>\n",
       "    <tr>\n",
       "      <th>37</th>\n",
       "      <td>*</td>\n",
       "      <td>3</td>\n",
       "      <td>0.000071</td>\n",
       "      <td>99.999929</td>\n",
       "    </tr>\n",
       "    <tr>\n",
       "      <th>38</th>\n",
       "      <td>¿</td>\n",
       "      <td>1</td>\n",
       "      <td>0.000024</td>\n",
       "      <td>99.999953</td>\n",
       "    </tr>\n",
       "    <tr>\n",
       "      <th>39</th>\n",
       "      <td>ï</td>\n",
       "      <td>1</td>\n",
       "      <td>0.000024</td>\n",
       "      <td>99.999976</td>\n",
       "    </tr>\n",
       "    <tr>\n",
       "      <th>40</th>\n",
       "      <td>»</td>\n",
       "      <td>1</td>\n",
       "      <td>0.000024</td>\n",
       "      <td>100.000000</td>\n",
       "    </tr>\n",
       "  </tbody>\n",
       "</table>\n",
       "</div>"
      ],
      "text/plain": [
       "   char  frequency          %          c%\n",
       "0           879099  20.787387   20.787387\n",
       "1     e     410407   9.704583   30.491970\n",
       "2     t     316225   7.477533   37.969502\n",
       "3     h     282154   6.671881   44.641383\n",
       "4     a     274726   6.496237   51.137621\n",
       "5     o     241850   5.718843   56.856464\n",
       "6     n     224030   5.297467   62.153931\n",
       "7     i     192838   4.559894   66.713825\n",
       "8     s     189267   4.475453   71.189278\n",
       "9     r     169168   4.000187   75.189466\n",
       "10    d     157573   3.726009   78.915475\n",
       "11    l     129452   3.061053   81.976528\n",
       "12    f      83158   1.966374   83.942902\n",
       "13    u      82970   1.961929   85.904831\n",
       "14    m      79573   1.881602   87.786433\n",
       "15    ,      70573   1.668786   89.455219\n",
       "16    w      65218   1.542161   90.997380\n",
       "17    y      58254   1.377488   92.374868\n",
       "18    g      54880   1.297706   93.672573\n",
       "19    c      54474   1.288105   94.960679\n",
       "20    b      48589   1.148947   96.109626\n",
       "21    p      42810   1.012296   97.121921\n",
       "22    v      30252   0.715346   97.837268\n",
       "23    .      26202   0.619579   98.456846\n",
       "24    k      22151   0.523788   98.980634\n",
       "25    :      12706   0.300449   99.281083\n",
       "26    ;      10139   0.239749   99.520833\n",
       "27    j       8793   0.207921   99.728754\n",
       "28    ?       3297   0.077962   99.806716\n",
       "29    z       2970   0.070229   99.876945\n",
       "30    '       2017   0.047694   99.924639\n",
       "31    x       1450   0.034287   99.958926\n",
       "32    q        953   0.022535   99.981461\n",
       "33    !        313   0.007401   99.988863\n",
       "34    (        221   0.005226   99.994088\n",
       "35    )        221   0.005226   99.999314\n",
       "36    -         23   0.000544   99.999858\n",
       "37    *          3   0.000071   99.999929\n",
       "38    ¿          1   0.000024   99.999953\n",
       "39    ï          1   0.000024   99.999976\n",
       "40    »          1   0.000024  100.000000"
      ]
     },
     "execution_count": 20,
     "metadata": {},
     "output_type": "execute_result"
    }
   ],
   "source": [
    "cf"
   ]
  },
  {
   "cell_type": "code",
   "execution_count": 21,
   "metadata": {},
   "outputs": [
    {
     "data": {
      "image/png": "[encoded data removed]",
      "text/plain": [
       "<Figure size 1440x864 with 1 Axes>"
      ]
     },
     "metadata": {},
     "output_type": "display_data"
    }
   ],
   "source": [
    "plt.figure(figsize=(20,12))\n",
    "plt.bar(cf['char'],cf['%'])\n",
    "plt.axis([-1,38,0,25])\n",
    "plt.title('Character Frequency percentage')\n",
    "plt.xlabel('Character')\n",
    "plt.ylabel('Percentage of entire bible');"
   ]
  },
  {
   "cell_type": "code",
   "execution_count": null,
   "metadata": {},
   "outputs": [],
   "source": []
  }
 ],
 "metadata": {
  "kernelspec": {
   "display_name": "Python 3",
   "language": "python",
   "name": "python3"
  },
  "language_info": {
   "codemirror_mode": {
    "name": "ipython",
    "version": 3
   },
   "file_extension": ".py",
   "mimetype": "text/x-python",
   "name": "python",
   "nbconvert_exporter": "python",
   "pygments_lexer": "ipython3",
   "version": "3.7.7"
  }
 },
 "nbformat": 4,
 "nbformat_minor": 4
}
