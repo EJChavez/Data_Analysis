{
 "cells": [
  {
   "cell_type": "markdown",
   "metadata": {},
   "source": [
    "# Who will survive the Titanic Disaster?\n",
    "\n",
    "This notebook looks into using various Python-based machine learning and data science libraries in an attempt to build a ML model capable of predicting whether or not someone would survive the titanic disaster based on various attributes of the people.\n",
    "\n",
    "We're going to take the following approach:\n",
    "1. Problem Definition\n",
    "2. Data\n",
    "3. Evaluation\n",
    "4. Features\n",
    "5. Modeling\n",
    "6. Experimentation\n",
    "\n",
    "# 1. Problem Definition\n",
    "\n",
    "In a statement:\n",
    "`Given various personal and socio-economic attributes, can we predict if they woudl survive?`\n",
    "\n",
    "\n",
    "# 2. Data\n",
    "\n",
    "The original data came from the Kaggle Competition Titanic: Machine Learning from Disaster\n",
    "https://www.kaggle.com/c/titanic/data\n",
    "\n",
    "# 3. Evaluation\n",
    "\n",
    "The goal is to reach roughly 80% accuracy, so we can more often than not determine survival\n",
    "\n",
    "# 4. Features\n",
    "\n",
    " 1. survival: Did the person survive?\n",
    " 2. pclass: What Class of Ticket did the passenger purchase?\n",
    " 3. sex: Male (0), Female (1)\n",
    " 4. Age\n",
    " 5. sibsp: # of siblings / spouses aboard the Titanic\t\n",
    " 6. parch: # of parents / children aboard the Titanic\t\n",
    " 7. ticket\t   \t\n",
    " 8. fare\n",
    " 9. cabin\n",
    " 10. embarked: Port of Embarkation C = Cherbourg, Q = Queenstown, S = Southampton"
   ]
  },
  {
   "cell_type": "markdown",
   "metadata": {},
   "source": [
    "## Features that (probably) don't matter\n",
    "1. Name - We already have passenger ID which is all that really matters\n",
    "2. Ticket - the ticket number that they bought isn't important as there are 681 unique values\n",
    "3. Cabin - this should already be taken into account basically by Class, plus theres over 600 missing values which doesn't help\n",
    "4. Embarked - it shouldn't matter where they left from if they died, but i'll add this one back"
   ]
  },
  {
   "cell_type": "markdown",
   "metadata": {},
   "source": [
    "# Preparing the tools\n",
    "\n",
    "We're going to use pandas, NumPy, and Matplotlib for data analysis, and we are going to use Sci-KitLearn and XGboost for modeling"
   ]
  },
  {
   "cell_type": "code",
   "execution_count": 1,
   "metadata": {},
   "outputs": [],
   "source": [
    "# Import all the tools that you need\n",
    "\n",
    "# Regular EDA (exploratory data analysis) and plotting libraries\n",
    "import pandas as pd\n",
    "import numpy as np\n",
    "import matplotlib.pyplot as plt\n",
    "import seaborn\n",
    "\n",
    "# we want our plots to appear inside the notebook\n",
    "%matplotlib inline\n",
    "plt.style.use('seaborn-whitegrid')\n",
    "\n",
    "# Models from Scikit-Learn\n",
    "from sklearn.linear_model import LogisticRegression\n",
    "from sklearn.neighbors import KNeighborsClassifier\n",
    "from sklearn.ensemble import RandomForestClassifier\n",
    "from sklearn.svm import SVC\n",
    "\n",
    "# Model from XGBoost\n",
    "import xgboost as xgb\n",
    "\n",
    "# Model from catboost\n",
    "from catboost import CatBoostClassifier\n",
    "\n",
    "# Model Evaluations\n",
    "from sklearn.model_selection import train_test_split, cross_val_score\n",
    "from sklearn.model_selection import RandomizedSearchCV, GridSearchCV\n",
    "from sklearn.metrics import confusion_matrix, classification_report"
   ]
  },
  {
   "cell_type": "code",
   "execution_count": 2,
   "metadata": {},
   "outputs": [
    {
     "data": {
      "text/html": [
       "<div>\n",
       "<style scoped>\n",
       "    .dataframe tbody tr th:only-of-type {\n",
       "        vertical-align: middle;\n",
       "    }\n",
       "\n",
       "    .dataframe tbody tr th {\n",
       "        vertical-align: top;\n",
       "    }\n",
       "\n",
       "    .dataframe thead th {\n",
       "        text-align: right;\n",
       "    }\n",
       "</style>\n",
       "<table border=\"1\" class=\"dataframe\">\n",
       "  <thead>\n",
       "    <tr style=\"text-align: right;\">\n",
       "      <th></th>\n",
       "      <th>PassengerId</th>\n",
       "      <th>Survived</th>\n",
       "      <th>Pclass</th>\n",
       "      <th>Name</th>\n",
       "      <th>Sex</th>\n",
       "      <th>Age</th>\n",
       "      <th>SibSp</th>\n",
       "      <th>Parch</th>\n",
       "      <th>Ticket</th>\n",
       "      <th>Fare</th>\n",
       "      <th>Cabin</th>\n",
       "      <th>Embarked</th>\n",
       "    </tr>\n",
       "  </thead>\n",
       "  <tbody>\n",
       "    <tr>\n",
       "      <th>0</th>\n",
       "      <td>1</td>\n",
       "      <td>0</td>\n",
       "      <td>3</td>\n",
       "      <td>Braund, Mr. Owen Harris</td>\n",
       "      <td>male</td>\n",
       "      <td>22.0</td>\n",
       "      <td>1</td>\n",
       "      <td>0</td>\n",
       "      <td>A/5 21171</td>\n",
       "      <td>7.2500</td>\n",
       "      <td>NaN</td>\n",
       "      <td>S</td>\n",
       "    </tr>\n",
       "    <tr>\n",
       "      <th>1</th>\n",
       "      <td>2</td>\n",
       "      <td>1</td>\n",
       "      <td>1</td>\n",
       "      <td>Cumings, Mrs. John Bradley (Florence Briggs Th...</td>\n",
       "      <td>female</td>\n",
       "      <td>38.0</td>\n",
       "      <td>1</td>\n",
       "      <td>0</td>\n",
       "      <td>PC 17599</td>\n",
       "      <td>71.2833</td>\n",
       "      <td>C85</td>\n",
       "      <td>C</td>\n",
       "    </tr>\n",
       "    <tr>\n",
       "      <th>2</th>\n",
       "      <td>3</td>\n",
       "      <td>1</td>\n",
       "      <td>3</td>\n",
       "      <td>Heikkinen, Miss. Laina</td>\n",
       "      <td>female</td>\n",
       "      <td>26.0</td>\n",
       "      <td>0</td>\n",
       "      <td>0</td>\n",
       "      <td>STON/O2. 3101282</td>\n",
       "      <td>7.9250</td>\n",
       "      <td>NaN</td>\n",
       "      <td>S</td>\n",
       "    </tr>\n",
       "    <tr>\n",
       "      <th>3</th>\n",
       "      <td>4</td>\n",
       "      <td>1</td>\n",
       "      <td>1</td>\n",
       "      <td>Futrelle, Mrs. Jacques Heath (Lily May Peel)</td>\n",
       "      <td>female</td>\n",
       "      <td>35.0</td>\n",
       "      <td>1</td>\n",
       "      <td>0</td>\n",
       "      <td>113803</td>\n",
       "      <td>53.1000</td>\n",
       "      <td>C123</td>\n",
       "      <td>S</td>\n",
       "    </tr>\n",
       "    <tr>\n",
       "      <th>4</th>\n",
       "      <td>5</td>\n",
       "      <td>0</td>\n",
       "      <td>3</td>\n",
       "      <td>Allen, Mr. William Henry</td>\n",
       "      <td>male</td>\n",
       "      <td>35.0</td>\n",
       "      <td>0</td>\n",
       "      <td>0</td>\n",
       "      <td>373450</td>\n",
       "      <td>8.0500</td>\n",
       "      <td>NaN</td>\n",
       "      <td>S</td>\n",
       "    </tr>\n",
       "  </tbody>\n",
       "</table>\n",
       "</div>"
      ],
      "text/plain": [
       "   PassengerId  Survived  Pclass  \\\n",
       "0            1         0       3   \n",
       "1            2         1       1   \n",
       "2            3         1       3   \n",
       "3            4         1       1   \n",
       "4            5         0       3   \n",
       "\n",
       "                                                Name     Sex   Age  SibSp  \\\n",
       "0                            Braund, Mr. Owen Harris    male  22.0      1   \n",
       "1  Cumings, Mrs. John Bradley (Florence Briggs Th...  female  38.0      1   \n",
       "2                             Heikkinen, Miss. Laina  female  26.0      0   \n",
       "3       Futrelle, Mrs. Jacques Heath (Lily May Peel)  female  35.0      1   \n",
       "4                           Allen, Mr. William Henry    male  35.0      0   \n",
       "\n",
       "   Parch            Ticket     Fare Cabin Embarked  \n",
       "0      0         A/5 21171   7.2500   NaN        S  \n",
       "1      0          PC 17599  71.2833   C85        C  \n",
       "2      0  STON/O2. 3101282   7.9250   NaN        S  \n",
       "3      0            113803  53.1000  C123        S  \n",
       "4      0            373450   8.0500   NaN        S  "
      ]
     },
     "execution_count": 2,
     "metadata": {},
     "output_type": "execute_result"
    }
   ],
   "source": [
    "# Lets take a good look at our data\n",
    "df = pd.read_csv('train.csv')\n",
    "df.head()"
   ]
  },
  {
   "cell_type": "code",
   "execution_count": 3,
   "metadata": {},
   "outputs": [
    {
     "name": "stdout",
     "output_type": "stream",
     "text": [
      "<class 'pandas.core.frame.DataFrame'>\n",
      "RangeIndex: 891 entries, 0 to 890\n",
      "Data columns (total 12 columns):\n",
      " #   Column       Non-Null Count  Dtype  \n",
      "---  ------       --------------  -----  \n",
      " 0   PassengerId  891 non-null    int64  \n",
      " 1   Survived     891 non-null    int64  \n",
      " 2   Pclass       891 non-null    int64  \n",
      " 3   Name         891 non-null    object \n",
      " 4   Sex          891 non-null    object \n",
      " 5   Age          714 non-null    float64\n",
      " 6   SibSp        891 non-null    int64  \n",
      " 7   Parch        891 non-null    int64  \n",
      " 8   Ticket       891 non-null    object \n",
      " 9   Fare         891 non-null    float64\n",
      " 10  Cabin        204 non-null    object \n",
      " 11  Embarked     889 non-null    object \n",
      "dtypes: float64(2), int64(5), object(5)\n",
      "memory usage: 83.7+ KB\n"
     ]
    }
   ],
   "source": [
    "df.info()"
   ]
  },
  {
   "cell_type": "code",
   "execution_count": 4,
   "metadata": {},
   "outputs": [],
   "source": [
    "def clean_dataframe(df=df):\n",
    "    '''\n",
    "    This Function drops the less useful information and cleans up the other stuff\n",
    "    '''\n",
    "    df.drop(['Name','Ticket','Cabin'], axis = 1, inplace = True)\n",
    "    \n",
    "    num_sex, num_embarked = [], []\n",
    "    \n",
    "    # Turn Sex into num\n",
    "    for i in df['Sex']:\n",
    "        if i =='female':\n",
    "            num_sex.append(1)\n",
    "        else:\n",
    "            num_sex.append(0)\n",
    "    df['Sex'] = num_sex\n",
    "    \n",
    "    # Turn Embarked into Categorical\n",
    "    for i in df['Embarked']:\n",
    "        if i == 'C':\n",
    "            num_embarked.append(1)\n",
    "        elif i =='Q':\n",
    "            num_embarked.append(2)\n",
    "        else:\n",
    "            num_embarked.append(0)\n",
    "    df['Embarked'] = num_embarked\n",
    "    \n",
    "    # Fill the Age column with the median age value\n",
    "    df['Age'].fillna(df['Age'].median(),inplace=True)\n",
    "    return df"
   ]
  },
  {
   "cell_type": "code",
   "execution_count": 5,
   "metadata": {},
   "outputs": [
    {
     "name": "stdout",
     "output_type": "stream",
     "text": [
      "<class 'pandas.core.frame.DataFrame'>\n",
      "RangeIndex: 891 entries, 0 to 890\n",
      "Data columns (total 9 columns):\n",
      " #   Column       Non-Null Count  Dtype  \n",
      "---  ------       --------------  -----  \n",
      " 0   PassengerId  891 non-null    int64  \n",
      " 1   Survived     891 non-null    int64  \n",
      " 2   Pclass       891 non-null    int64  \n",
      " 3   Sex          891 non-null    int64  \n",
      " 4   Age          891 non-null    float64\n",
      " 5   SibSp        891 non-null    int64  \n",
      " 6   Parch        891 non-null    int64  \n",
      " 7   Fare         891 non-null    float64\n",
      " 8   Embarked     891 non-null    int64  \n",
      "dtypes: float64(2), int64(7)\n",
      "memory usage: 62.8 KB\n"
     ]
    }
   ],
   "source": [
    "# Now we have all numerical data with no missing values\n",
    "df = clean_dataframe()\n",
    "df.info()"
   ]
  },
  {
   "cell_type": "code",
   "execution_count": 8,
   "metadata": {},
   "outputs": [
    {
     "data": {
      "text/plain": [
       "<matplotlib.collections.PathCollection at 0x1e1a2bfa9c8>"
      ]
     },
     "execution_count": 8,
     "metadata": {},
     "output_type": "execute_result"
    },
    {
     "data": {
      "image/png": "[encoded data removed]",
      "text/plain": [
       "<Figure size 720x432 with 1 Axes>"
      ]
     },
     "metadata": {},
     "output_type": "display_data"
    }
   ],
   "source": [
    "# Create another figure\n",
    "plt.figure(figsize = (10,6))\n",
    "\n",
    "# Scatter with positive examples\n",
    "plt.scatter(df['Age'][df.Survived==0],\n",
    "            df.Fare[df.Survived==0],\n",
    "            c='salmon')\n",
    "plt.scatter(df['Age'][df.Survived==1],\n",
    "            df.Fare[df.Survived==1],\n",
    "            c='lightblue')\n"
   ]
  },
  {
   "cell_type": "code",
   "execution_count": null,
   "metadata": {},
   "outputs": [],
   "source": [
    "plt.figure(figs)"
   ]
  },
  {
   "cell_type": "code",
   "execution_count": 19,
   "metadata": {},
   "outputs": [
    {
     "data": {
      "text/plain": [
       "0      22.0\n",
       "1      38.0\n",
       "2      26.0\n",
       "3      35.0\n",
       "4      35.0\n",
       "       ... \n",
       "886    27.0\n",
       "887    19.0\n",
       "888    28.0\n",
       "889    26.0\n",
       "890    32.0\n",
       "Name: Age, Length: 891, dtype: float64"
      ]
     },
     "execution_count": 19,
     "metadata": {},
     "output_type": "execute_result"
    }
   ],
   "source": [
    "df.Age"
   ]
  },
  {
   "cell_type": "code",
   "execution_count": 6,
   "metadata": {},
   "outputs": [
    {
     "data": {
      "image/png": "[encoded data removed]",
      "text/plain": [
       "<Figure size 432x288 with 1 Axes>"
      ]
     },
     "metadata": {},
     "output_type": "display_data"
    }
   ],
   "source": [
    "df['Survived'].value_counts().plot(kind='bar',color= ['blue','red']);"
   ]
  },
  {
   "cell_type": "code",
   "execution_count": 7,
   "metadata": {},
   "outputs": [
    {
     "data": {
      "image/png": "[encoded data removed]",
      "text/plain": [
       "<Figure size 720x432 with 1 Axes>"
      ]
     },
     "metadata": {},
     "output_type": "display_data"
    }
   ],
   "source": [
    "pd.crosstab(df['Survived'],df['Sex']).plot(kind='bar',\n",
    "                                          figsize=(10,6),\n",
    "                                          color = ['salmon','lightblue'])\n",
    "plt.title('Survival Rates for Males and Females')\n",
    "plt.xlabel('0 = Died, 1 = Survived')\n",
    "plt.ylabel('Amount')\n",
    "plt.legend(['Male','Female']);"
   ]
  },
  {
   "cell_type": "code",
   "execution_count": 56,
   "metadata": {},
   "outputs": [
    {
     "data": {
      "image/png": "[encoded data removed]",
      "text/plain": [
       "<Figure size 1080x720 with 2 Axes>"
      ]
     },
     "metadata": {},
     "output_type": "display_data"
    }
   ],
   "source": [
    "# It looks like the Majority of men perished while a majority of women survived\n",
    "# Now lets make a correlation matrix\n",
    "corr_matrix = df.corr()\n",
    "fig,ax = plt.subplots(figsize=(15,10))\n",
    "ax = seaborn.heatmap(corr_matrix,\n",
    "                 annot=True,\n",
    "                 linewidths = .5,\n",
    "                 fmt ='.2f',\n",
    "                 cmap='YlGnBu');"
   ]
  },
  {
   "cell_type": "markdown",
   "metadata": {},
   "source": [
    "It looks like on the correlation matrix the most important metrics of survival are: \n",
    "1. Passenger Sex\n",
    "2. Passenger Class\n",
    "3. Passenger Fare"
   ]
  },
  {
   "cell_type": "code",
   "execution_count": 77,
   "metadata": {},
   "outputs": [],
   "source": [
    "# To prevent overfitting, lets start with a reduced size model with just a few features\n",
    "rdf = df.drop(['Fare','Embarked'],axis=1)\n",
    "\n",
    "X = rdf.drop('Survived', axis=1)\n",
    "y = rdf['Survived']\n",
    "\n",
    "X_train,X_test,y_train,y_test = train_test_split(X,y,test_size=.2)"
   ]
  },
  {
   "cell_type": "code",
   "execution_count": 78,
   "metadata": {},
   "outputs": [],
   "source": [
    "model_dictionary = {\n",
    "        'Random Forest' : RandomForestClassifier(),\n",
    "        'Logistic Regression' : LogisticRegression(max_iter=750),\n",
    "        'Extreme Gradient' : xgb.XGBClassifier(),\n",
    "        'Kneighbors': KNeighborsClassifier(n_neighbors = 10),\n",
    "        'CatBoost' : CatBoostClassifier(iterations=2,\n",
    "                                        learning_rate=1,\n",
    "                                        depth=2)}\n",
    "\n",
    "# Lets Build some base level models too see which classifiers are preforming the best\n",
    "def model_loop(models,X_train,X_test,y_train,y_test):\n",
    "    np.random.seed(42)\n",
    "    model_scores = {}\n",
    "    for name, model in models.items():\n",
    "        model.fit(X_train,y_train)\n",
    "        model_scores[name] = model.score(X_test,y_test)\n",
    "    return model_scores"
   ]
  },
  {
   "cell_type": "code",
   "execution_count": 79,
   "metadata": {},
   "outputs": [
    {
     "name": "stdout",
     "output_type": "stream",
     "text": [
      "0:\tlearn: 0.5155283\ttotal: 1.06ms\tremaining: 1.06ms\n",
      "1:\tlearn: 0.4695209\ttotal: 1.68ms\tremaining: 0us\n"
     ]
    },
    {
     "data": {
      "text/plain": [
       "{'Random Forest': 0.8324022346368715,\n",
       " 'Logistic Regression': 0.8100558659217877,\n",
       " 'Extreme Gradient': 0.8100558659217877,\n",
       " 'Kneighbors': 0.5586592178770949,\n",
       " 'CatBoost': 0.7932960893854749}"
      ]
     },
     "execution_count": 79,
     "metadata": {},
     "output_type": "execute_result"
    }
   ],
   "source": [
    "model_loop(model_dictionary,X_train,X_test,y_train,y_test)"
   ]
  },
  {
   "cell_type": "markdown",
   "metadata": {},
   "source": [
    "After messing around with the features a bit it appears that the optimal feature list for highest test accuracy is\n",
    "1. Passenger ID\n",
    "2. Passenger Age\n",
    "3. Passenger Sex\n",
    "4. Passenger Class\n",
    "Now that we know this lets move on to adjusting hyperparameters for the the following models:\n",
    "1. Random Forest Classifier\n"
   ]
  },
  {
   "cell_type": "code",
   "execution_count": 80,
   "metadata": {},
   "outputs": [
    {
     "name": "stdout",
     "output_type": "stream",
     "text": [
      "0:\tlearn: 0.5155283\ttotal: 965us\tremaining: 965us\n",
      "1:\tlearn: 0.4695209\ttotal: 1.81ms\tremaining: 0us\n"
     ]
    },
    {
     "data": {
      "text/plain": [
       "0.7932960893854749"
      ]
     },
     "execution_count": 80,
     "metadata": {},
     "output_type": "execute_result"
    }
   ],
   "source": [
    "cat = CatBoostClassifier(iterations=2,learning_rate=1,depth=2)\n",
    "cat.fit(X_train,y_train)\n",
    "cat.score(X_test,y_test)"
   ]
  },
  {
   "cell_type": "code",
   "execution_count": 81,
   "metadata": {},
   "outputs": [],
   "source": [
    "y_preds = cat.predict(X_test)"
   ]
  },
  {
   "cell_type": "code",
   "execution_count": 82,
   "metadata": {},
   "outputs": [
    {
     "data": {
      "text/plain": [
       "array([[94, 17],\n",
       "       [20, 48]], dtype=int64)"
      ]
     },
     "execution_count": 82,
     "metadata": {},
     "output_type": "execute_result"
    }
   ],
   "source": [
    "# Confusion matrix\n",
    "cf_matrix = confusion_matrix(y_test,y_preds)\n",
    "cf_matrix"
   ]
  },
  {
   "cell_type": "code",
   "execution_count": 83,
   "metadata": {},
   "outputs": [
    {
     "data": {
      "image/png": "[encoded data removed]",
      "text/plain": [
       "<Figure size 432x288 with 1 Axes>"
      ]
     },
     "metadata": {},
     "output_type": "display_data"
    }
   ],
   "source": [
    "seaborn.set(font_scale=2)\n",
    "seaborn.heatmap(cf_matrix, annot=True,cmap='Blues', cbar=False)\n",
    "plt.title('Titanic Survival Confusion Matrix')\n",
    "plt.xlabel('True label')\n",
    "plt.ylabel('Predicted Label');"
   ]
  },
  {
   "cell_type": "markdown",
   "metadata": {},
   "source": [
    "It looks like, at least for the base model, the most important aspect of survival is the passengers Sex, not the Class discrepency (This is what we found in our correlation matrix). But lets see if adjusting the hyperparameters will change anything"
   ]
  },
  {
   "cell_type": "markdown",
   "metadata": {},
   "source": [
    "# Adjusting Hyperparameters for Multiple Models\n",
    "\n",
    "We will take the following approach for ajusting hyperparameters:\n",
    "1. Linear Regression - GridSearchCV\n",
    "2. RandomForestClassification - RandomizedSearchCV\n",
    "3. XGBoost - Baysian Model Optimization\n",
    "4. Catboost - Baysian Model Optimization\n",
    "5. Support Vector"
   ]
  },
  {
   "cell_type": "code",
   "execution_count": 84,
   "metadata": {},
   "outputs": [],
   "source": [
    "## Support Vector\n",
    "# svc_grid = {\n",
    "#     'C': [0.1, 1, 10, 100, 1000],\n",
    "#     'gamma':[0.1, 1, 10, 100],\n",
    "#     'degree': [0, 1, 2, 3, 4, 5, 6],\n",
    "#     'kernel':['linear', 'poly', 'rbf'],\n",
    "# }\n",
    "\n",
    "# rs_svc = RandomizedSearchCV(SVC(),\n",
    "#                             param_distributions = svc_grid,\n",
    "#                             cv = 5,\n",
    "#                             n_iter = 10,\n",
    "#                             verbose = True)\n",
    "# rs_svc.fit(X_train,y_train)\n",
    "# print(rs_svc.best_params_)\n",
    "# print(rs_svc.score(X_test,y_test))"
   ]
  },
  {
   "cell_type": "code",
   "execution_count": 85,
   "metadata": {},
   "outputs": [
    {
     "name": "stderr",
     "output_type": "stream",
     "text": [
      "C:\\Users\\Ethan\\Desktop\\data_science\\env\\lib\\site-packages\\sklearn\\linear_model\\_logistic.py:1321: UserWarning: Setting penalty='none' will ignore the C and l1_ratio parameters\n",
      "  \"Setting penalty='none' will ignore the C and l1_ratio \"\n",
      "C:\\Users\\Ethan\\Desktop\\data_science\\env\\lib\\site-packages\\sklearn\\linear_model\\_sag.py:330: ConvergenceWarning: The max_iter was reached which means the coef_ did not converge\n",
      "  \"the coef_ did not converge\", ConvergenceWarning)\n",
      "C:\\Users\\Ethan\\Desktop\\data_science\\env\\lib\\site-packages\\sklearn\\linear_model\\_logistic.py:1321: UserWarning: Setting penalty='none' will ignore the C and l1_ratio parameters\n",
      "  \"Setting penalty='none' will ignore the C and l1_ratio \"\n",
      "C:\\Users\\Ethan\\Desktop\\data_science\\env\\lib\\site-packages\\sklearn\\linear_model\\_sag.py:330: ConvergenceWarning: The max_iter was reached which means the coef_ did not converge\n",
      "  \"the coef_ did not converge\", ConvergenceWarning)\n",
      "C:\\Users\\Ethan\\Desktop\\data_science\\env\\lib\\site-packages\\sklearn\\linear_model\\_logistic.py:1321: UserWarning: Setting penalty='none' will ignore the C and l1_ratio parameters\n",
      "  \"Setting penalty='none' will ignore the C and l1_ratio \"\n",
      "C:\\Users\\Ethan\\Desktop\\data_science\\env\\lib\\site-packages\\sklearn\\linear_model\\_sag.py:330: ConvergenceWarning: The max_iter was reached which means the coef_ did not converge\n",
      "  \"the coef_ did not converge\", ConvergenceWarning)\n",
      "C:\\Users\\Ethan\\Desktop\\data_science\\env\\lib\\site-packages\\sklearn\\linear_model\\_logistic.py:1321: UserWarning: Setting penalty='none' will ignore the C and l1_ratio parameters\n",
      "  \"Setting penalty='none' will ignore the C and l1_ratio \"\n",
      "C:\\Users\\Ethan\\Desktop\\data_science\\env\\lib\\site-packages\\sklearn\\linear_model\\_sag.py:330: ConvergenceWarning: The max_iter was reached which means the coef_ did not converge\n",
      "  \"the coef_ did not converge\", ConvergenceWarning)\n",
      "C:\\Users\\Ethan\\Desktop\\data_science\\env\\lib\\site-packages\\sklearn\\linear_model\\_logistic.py:1321: UserWarning: Setting penalty='none' will ignore the C and l1_ratio parameters\n",
      "  \"Setting penalty='none' will ignore the C and l1_ratio \"\n",
      "C:\\Users\\Ethan\\Desktop\\data_science\\env\\lib\\site-packages\\sklearn\\linear_model\\_sag.py:330: ConvergenceWarning: The max_iter was reached which means the coef_ did not converge\n",
      "  \"the coef_ did not converge\", ConvergenceWarning)\n",
      "C:\\Users\\Ethan\\Desktop\\data_science\\env\\lib\\site-packages\\sklearn\\linear_model\\_sag.py:330: ConvergenceWarning: The max_iter was reached which means the coef_ did not converge\n",
      "  \"the coef_ did not converge\", ConvergenceWarning)\n",
      "C:\\Users\\Ethan\\Desktop\\data_science\\env\\lib\\site-packages\\sklearn\\linear_model\\_sag.py:330: ConvergenceWarning: The max_iter was reached which means the coef_ did not converge\n",
      "  \"the coef_ did not converge\", ConvergenceWarning)\n",
      "C:\\Users\\Ethan\\Desktop\\data_science\\env\\lib\\site-packages\\sklearn\\linear_model\\_sag.py:330: ConvergenceWarning: The max_iter was reached which means the coef_ did not converge\n",
      "  \"the coef_ did not converge\", ConvergenceWarning)\n",
      "C:\\Users\\Ethan\\Desktop\\data_science\\env\\lib\\site-packages\\sklearn\\linear_model\\_sag.py:330: ConvergenceWarning: The max_iter was reached which means the coef_ did not converge\n",
      "  \"the coef_ did not converge\", ConvergenceWarning)\n",
      "C:\\Users\\Ethan\\Desktop\\data_science\\env\\lib\\site-packages\\sklearn\\linear_model\\_sag.py:330: ConvergenceWarning: The max_iter was reached which means the coef_ did not converge\n",
      "  \"the coef_ did not converge\", ConvergenceWarning)\n",
      "C:\\Users\\Ethan\\Desktop\\data_science\\env\\lib\\site-packages\\scipy\\optimize\\linesearch.py:327: LineSearchWarning: The line search algorithm did not converge\n",
      "  warn('The line search algorithm did not converge', LineSearchWarning)\n",
      "C:\\Users\\Ethan\\Desktop\\data_science\\env\\lib\\site-packages\\sklearn\\utils\\optimize.py:204: UserWarning: Line Search failed\n",
      "  warnings.warn('Line Search failed')\n",
      "C:\\Users\\Ethan\\Desktop\\data_science\\env\\lib\\site-packages\\sklearn\\model_selection\\_validation.py:552: FitFailedWarning: Estimator fit failed. The score on this train-test partition for these parameters will be set to nan. Details: \n",
      "Traceback (most recent call last):\n",
      "  File \"C:\\Users\\Ethan\\Desktop\\data_science\\env\\lib\\site-packages\\sklearn\\model_selection\\_validation.py\", line 531, in _fit_and_score\n",
      "    estimator.fit(X_train, y_train, **fit_params)\n",
      "  File \"C:\\Users\\Ethan\\Desktop\\data_science\\env\\lib\\site-packages\\sklearn\\linear_model\\_logistic.py\", line 1304, in fit\n",
      "    solver = _check_solver(self.solver, self.penalty, self.dual)\n",
      "  File \"C:\\Users\\Ethan\\Desktop\\data_science\\env\\lib\\site-packages\\sklearn\\linear_model\\_logistic.py\", line 443, in _check_solver\n",
      "    \"got %s penalty.\" % (solver, penalty))\n",
      "ValueError: Solver newton-cg supports only 'l2' or 'none' penalties, got l1 penalty.\n",
      "\n",
      "  FitFailedWarning)\n",
      "C:\\Users\\Ethan\\Desktop\\data_science\\env\\lib\\site-packages\\sklearn\\linear_model\\_sag.py:330: ConvergenceWarning: The max_iter was reached which means the coef_ did not converge\n",
      "  \"the coef_ did not converge\", ConvergenceWarning)\n",
      "C:\\Users\\Ethan\\Desktop\\data_science\\env\\lib\\site-packages\\sklearn\\linear_model\\_sag.py:330: ConvergenceWarning: The max_iter was reached which means the coef_ did not converge\n",
      "  \"the coef_ did not converge\", ConvergenceWarning)\n",
      "C:\\Users\\Ethan\\Desktop\\data_science\\env\\lib\\site-packages\\sklearn\\linear_model\\_sag.py:330: ConvergenceWarning: The max_iter was reached which means the coef_ did not converge\n",
      "  \"the coef_ did not converge\", ConvergenceWarning)\n",
      "C:\\Users\\Ethan\\Desktop\\data_science\\env\\lib\\site-packages\\sklearn\\linear_model\\_sag.py:330: ConvergenceWarning: The max_iter was reached which means the coef_ did not converge\n",
      "  \"the coef_ did not converge\", ConvergenceWarning)\n",
      "C:\\Users\\Ethan\\Desktop\\data_science\\env\\lib\\site-packages\\sklearn\\linear_model\\_sag.py:330: ConvergenceWarning: The max_iter was reached which means the coef_ did not converge\n",
      "  \"the coef_ did not converge\", ConvergenceWarning)\n",
      "C:\\Users\\Ethan\\Desktop\\data_science\\env\\lib\\site-packages\\sklearn\\model_selection\\_validation.py:552: FitFailedWarning: Estimator fit failed. The score on this train-test partition for these parameters will be set to nan. Details: \n",
      "Traceback (most recent call last):\n",
      "  File \"C:\\Users\\Ethan\\Desktop\\data_science\\env\\lib\\site-packages\\sklearn\\model_selection\\_validation.py\", line 531, in _fit_and_score\n",
      "    estimator.fit(X_train, y_train, **fit_params)\n",
      "  File \"C:\\Users\\Ethan\\Desktop\\data_science\\env\\lib\\site-packages\\sklearn\\linear_model\\_logistic.py\", line 1313, in fit\n",
      "    \" got (l1_ratio=%r)\" % self.l1_ratio)\n",
      "ValueError: l1_ratio must be between 0 and 1; got (l1_ratio=None)\n",
      "\n",
      "  FitFailedWarning)\n",
      "C:\\Users\\Ethan\\Desktop\\data_science\\env\\lib\\site-packages\\sklearn\\model_selection\\_validation.py:552: FitFailedWarning: Estimator fit failed. The score on this train-test partition for these parameters will be set to nan. Details: \n",
      "Traceback (most recent call last):\n",
      "  File \"C:\\Users\\Ethan\\Desktop\\data_science\\env\\lib\\site-packages\\sklearn\\model_selection\\_validation.py\", line 531, in _fit_and_score\n",
      "    estimator.fit(X_train, y_train, **fit_params)\n",
      "  File \"C:\\Users\\Ethan\\Desktop\\data_science\\env\\lib\\site-packages\\sklearn\\linear_model\\_logistic.py\", line 1304, in fit\n",
      "    solver = _check_solver(self.solver, self.penalty, self.dual)\n",
      "  File \"C:\\Users\\Ethan\\Desktop\\data_science\\env\\lib\\site-packages\\sklearn\\linear_model\\_logistic.py\", line 454, in _check_solver\n",
      "    \"penalty='none' is not supported for the liblinear solver\"\n",
      "ValueError: penalty='none' is not supported for the liblinear solver\n",
      "\n",
      "  FitFailedWarning)\n",
      "C:\\Users\\Ethan\\Desktop\\data_science\\env\\lib\\site-packages\\sklearn\\linear_model\\_logistic.py:1321: UserWarning: Setting penalty='none' will ignore the C and l1_ratio parameters\n",
      "  \"Setting penalty='none' will ignore the C and l1_ratio \"\n",
      "C:\\Users\\Ethan\\Desktop\\data_science\\env\\lib\\site-packages\\sklearn\\linear_model\\_logistic.py:1321: UserWarning: Setting penalty='none' will ignore the C and l1_ratio parameters\n",
      "  \"Setting penalty='none' will ignore the C and l1_ratio \"\n",
      "C:\\Users\\Ethan\\Desktop\\data_science\\env\\lib\\site-packages\\sklearn\\linear_model\\_logistic.py:1321: UserWarning: Setting penalty='none' will ignore the C and l1_ratio parameters\n",
      "  \"Setting penalty='none' will ignore the C and l1_ratio \"\n"
     ]
    },
    {
     "name": "stderr",
     "output_type": "stream",
     "text": [
      "C:\\Users\\Ethan\\Desktop\\data_science\\env\\lib\\site-packages\\sklearn\\linear_model\\_logistic.py:1321: UserWarning: Setting penalty='none' will ignore the C and l1_ratio parameters\n",
      "  \"Setting penalty='none' will ignore the C and l1_ratio \"\n",
      "C:\\Users\\Ethan\\Desktop\\data_science\\env\\lib\\site-packages\\sklearn\\linear_model\\_logistic.py:1321: UserWarning: Setting penalty='none' will ignore the C and l1_ratio parameters\n",
      "  \"Setting penalty='none' will ignore the C and l1_ratio \"\n",
      "C:\\Users\\Ethan\\Desktop\\data_science\\env\\lib\\site-packages\\sklearn\\linear_model\\_logistic.py:1321: UserWarning: Setting penalty='none' will ignore the C and l1_ratio parameters\n",
      "  \"Setting penalty='none' will ignore the C and l1_ratio \"\n",
      "C:\\Users\\Ethan\\Desktop\\data_science\\env\\lib\\site-packages\\sklearn\\linear_model\\_logistic.py:1321: UserWarning: Setting penalty='none' will ignore the C and l1_ratio parameters\n",
      "  \"Setting penalty='none' will ignore the C and l1_ratio \"\n",
      "C:\\Users\\Ethan\\Desktop\\data_science\\env\\lib\\site-packages\\sklearn\\linear_model\\_logistic.py:1321: UserWarning: Setting penalty='none' will ignore the C and l1_ratio parameters\n",
      "  \"Setting penalty='none' will ignore the C and l1_ratio \"\n",
      "C:\\Users\\Ethan\\Desktop\\data_science\\env\\lib\\site-packages\\sklearn\\linear_model\\_logistic.py:1321: UserWarning: Setting penalty='none' will ignore the C and l1_ratio parameters\n",
      "  \"Setting penalty='none' will ignore the C and l1_ratio \"\n",
      "C:\\Users\\Ethan\\Desktop\\data_science\\env\\lib\\site-packages\\sklearn\\linear_model\\_logistic.py:1321: UserWarning: Setting penalty='none' will ignore the C and l1_ratio parameters\n",
      "  \"Setting penalty='none' will ignore the C and l1_ratio \"\n"
     ]
    },
    {
     "name": "stdout",
     "output_type": "stream",
     "text": [
      "{'solver': 'newton-cg', 'penalty': 'none', 'C': 0.001}\n",
      "0.8100558659217877\n"
     ]
    },
    {
     "name": "stderr",
     "output_type": "stream",
     "text": [
      "C:\\Users\\Ethan\\Desktop\\data_science\\env\\lib\\site-packages\\sklearn\\linear_model\\_logistic.py:1321: UserWarning: Setting penalty='none' will ignore the C and l1_ratio parameters\n",
      "  \"Setting penalty='none' will ignore the C and l1_ratio \"\n"
     ]
    }
   ],
   "source": [
    "# logistic Regression\n",
    "lr_grid = {\n",
    "    'solver' : ['newton-cg','lbfgs','liblinear','sag','saga'],\n",
    "    'penalty' : ['none','l1','l2','elasticnet'],\n",
    "    'C' : [100,10,1.0,.1,.001]\n",
    "}\n",
    "np.random.seed(42)\n",
    "\n",
    "rs_lr = RandomizedSearchCV(LogisticRegression(max_iter=750),\n",
    "                           param_distributions = lr_grid,\n",
    "                           cv = 5,\n",
    "                           n_iter = 10,\n",
    "                           verbose=False)\n",
    "rs_lr.fit(X_train,y_train)\n",
    "print(rs_lr.best_params_)\n",
    "print(rs_lr.score(X_test,y_test))"
   ]
  },
  {
   "cell_type": "code",
   "execution_count": 86,
   "metadata": {},
   "outputs": [
    {
     "name": "stdout",
     "output_type": "stream",
     "text": [
      "{'n_estimators': 210, 'min_samples_split': 8, 'min_samples_leaf': 5, 'max_depth': 10}\n",
      "0.8100558659217877\n"
     ]
    }
   ],
   "source": [
    "# RandomForestClassification\n",
    "rfc_grid = {'n_estimators':np.arange(10,250,50),\n",
    "           'max_depth': [None,3,5,10],\n",
    "           'min_samples_split':np.arange(2,20,2),\n",
    "           'min_samples_leaf': np.arange(1,20,2)}\n",
    "\n",
    "np.random.seed(42)\n",
    "gs_rfc = RandomizedSearchCV(RandomForestClassifier(),\n",
    "                          param_distributions=rfc_grid,\n",
    "                          cv=5,\n",
    "                          n_iter = 10,\n",
    "                          verbose=False)\n",
    "gs_rfc.fit(X_train,y_train)\n",
    "print(gs_rfc.best_params_)\n",
    "print(rs_lr.score(X_test,y_test))"
   ]
  },
  {
   "cell_type": "code",
   "execution_count": 87,
   "metadata": {},
   "outputs": [
    {
     "name": "stdout",
     "output_type": "stream",
     "text": [
      "0:\tlearn: 0.6770652\ttotal: 4.15ms\tremaining: 0us\n",
      "0:\tlearn: 0.6759767\ttotal: 3.48ms\tremaining: 0us\n",
      "0:\tlearn: 0.6766903\ttotal: 2.17ms\tremaining: 0us\n",
      "0:\tlearn: 0.6752334\ttotal: 3ms\tremaining: 0us\n",
      "0:\tlearn: 0.6761389\ttotal: 2.08ms\tremaining: 0us\n",
      "0:\tlearn: 0.6469111\ttotal: 3.82ms\tremaining: 15.3ms\n",
      "1:\tlearn: 0.6067903\ttotal: 5.05ms\tremaining: 7.58ms\n",
      "2:\tlearn: 0.5853531\ttotal: 28.8ms\tremaining: 19.2ms\n",
      "3:\tlearn: 0.5590281\ttotal: 30.4ms\tremaining: 7.59ms\n",
      "4:\tlearn: 0.5351509\ttotal: 32.5ms\tremaining: 0us\n",
      "0:\tlearn: 0.6438577\ttotal: 1.98ms\tremaining: 7.91ms\n",
      "1:\tlearn: 0.6015338\ttotal: 2.65ms\tremaining: 3.97ms\n",
      "2:\tlearn: 0.5682321\ttotal: 4.55ms\tremaining: 3.04ms\n",
      "3:\tlearn: 0.5443847\ttotal: 8.16ms\tremaining: 2.04ms\n",
      "4:\tlearn: 0.5248731\ttotal: 20.5ms\tremaining: 0us\n",
      "0:\tlearn: 0.6458522\ttotal: 2.03ms\tremaining: 8.11ms\n",
      "1:\tlearn: 0.6052852\ttotal: 2.83ms\tremaining: 4.24ms\n",
      "2:\tlearn: 0.5721028\ttotal: 4.77ms\tremaining: 3.18ms\n",
      "3:\tlearn: 0.5495988\ttotal: 8.49ms\tremaining: 2.12ms\n",
      "4:\tlearn: 0.5332674\ttotal: 20.8ms\tremaining: 0us\n",
      "0:\tlearn: 0.6417237\ttotal: 1.96ms\tremaining: 7.82ms\n",
      "1:\tlearn: 0.5978253\ttotal: 3.06ms\tremaining: 4.58ms\n",
      "2:\tlearn: 0.5643037\ttotal: 5.24ms\tremaining: 3.5ms\n",
      "3:\tlearn: 0.5376099\ttotal: 9ms\tremaining: 2.25ms\n",
      "4:\tlearn: 0.5171271\ttotal: 22ms\tremaining: 0us\n",
      "0:\tlearn: 0.6443187\ttotal: 2.1ms\tremaining: 8.39ms\n",
      "1:\tlearn: 0.6056029\ttotal: 5.76ms\tremaining: 8.64ms\n",
      "2:\tlearn: 0.5738081\ttotal: 6.84ms\tremaining: 4.56ms\n",
      "3:\tlearn: 0.5529522\ttotal: 7.59ms\tremaining: 1.9ms\n",
      "4:\tlearn: 0.5322487\ttotal: 8.48ms\tremaining: 0us\n",
      "0:\tlearn: 0.6770652\ttotal: 3.71ms\tremaining: 14.8ms\n",
      "1:\tlearn: 0.6606630\ttotal: 4.69ms\tremaining: 7.04ms\n",
      "2:\tlearn: 0.6487222\ttotal: 28.2ms\tremaining: 18.8ms\n",
      "3:\tlearn: 0.6352224\ttotal: 29.6ms\tremaining: 7.41ms\n",
      "4:\tlearn: 0.6243738\ttotal: 31.7ms\tremaining: 0us\n",
      "0:\tlearn: 0.6759767\ttotal: 4.91ms\tremaining: 19.6ms\n",
      "1:\tlearn: 0.6584284\ttotal: 6.61ms\tremaining: 9.91ms\n",
      "2:\tlearn: 0.6425876\ttotal: 9.39ms\tremaining: 6.26ms\n",
      "3:\tlearn: 0.6284463\ttotal: 13.4ms\tremaining: 3.36ms\n",
      "4:\tlearn: 0.6165913\ttotal: 26.4ms\tremaining: 0us\n",
      "0:\tlearn: 0.6766903\ttotal: 2.13ms\tremaining: 8.5ms\n",
      "1:\tlearn: 0.6599081\ttotal: 2.85ms\tremaining: 4.27ms\n",
      "2:\tlearn: 0.6442690\ttotal: 4.88ms\tremaining: 3.25ms\n",
      "3:\tlearn: 0.6317111\ttotal: 8.55ms\tremaining: 2.14ms\n",
      "4:\tlearn: 0.6228368\ttotal: 21.1ms\tremaining: 0us\n",
      "0:\tlearn: 0.6752334\ttotal: 2.23ms\tremaining: 8.91ms\n",
      "1:\tlearn: 0.6570146\ttotal: 3.06ms\tremaining: 4.59ms\n",
      "2:\tlearn: 0.6407186\ttotal: 5.09ms\tremaining: 3.39ms\n",
      "3:\tlearn: 0.6260851\ttotal: 8.7ms\tremaining: 2.18ms\n",
      "4:\tlearn: 0.6140330\ttotal: 21.8ms\tremaining: 0us\n",
      "0:\tlearn: 0.6761389\ttotal: 2.6ms\tremaining: 10.4ms\n",
      "1:\tlearn: 0.6591976\ttotal: 3.38ms\tremaining: 5.07ms\n",
      "2:\tlearn: 0.6437562\ttotal: 5.4ms\tremaining: 3.6ms\n",
      "3:\tlearn: 0.6300630\ttotal: 9.04ms\tremaining: 2.26ms\n",
      "4:\tlearn: 0.6187360\ttotal: 22.1ms\tremaining: 0us\n",
      "0:\tlearn: 0.6194158\ttotal: 2.46ms\tremaining: 0us\n",
      "0:\tlearn: 0.6146756\ttotal: 2.67ms\tremaining: 0us\n",
      "0:\tlearn: 0.6177602\ttotal: 6.21ms\tremaining: 0us\n",
      "0:\tlearn: 0.6112774\ttotal: 3.27ms\tremaining: 0us\n",
      "0:\tlearn: 0.6154022\ttotal: 2.62ms\tremaining: 0us\n",
      "0:\tlearn: 0.6469111\ttotal: 4.73ms\tremaining: 9.45ms\n",
      "1:\tlearn: 0.6067903\ttotal: 6.03ms\tremaining: 3.01ms\n",
      "2:\tlearn: 0.5853531\ttotal: 34.3ms\tremaining: 0us\n",
      "0:\tlearn: 0.6438577\ttotal: 2.15ms\tremaining: 4.3ms\n",
      "1:\tlearn: 0.6015338\ttotal: 2.98ms\tremaining: 1.49ms\n",
      "2:\tlearn: 0.5682321\ttotal: 5.03ms\tremaining: 0us\n",
      "0:\tlearn: 0.6458522\ttotal: 3.25ms\tremaining: 6.5ms\n",
      "1:\tlearn: 0.6052852\ttotal: 4.34ms\tremaining: 2.17ms\n",
      "2:\tlearn: 0.5721028\ttotal: 6.4ms\tremaining: 0us\n",
      "0:\tlearn: 0.6417237\ttotal: 2.07ms\tremaining: 4.13ms\n",
      "1:\tlearn: 0.5978253\ttotal: 2.8ms\tremaining: 1.4ms\n",
      "2:\tlearn: 0.5643037\ttotal: 4.74ms\tremaining: 0us\n",
      "0:\tlearn: 0.6443187\ttotal: 2.03ms\tremaining: 4.07ms\n",
      "1:\tlearn: 0.6056029\ttotal: 6.06ms\tremaining: 3.03ms\n",
      "2:\tlearn: 0.5738081\ttotal: 7.08ms\tremaining: 0us\n",
      "0:\tlearn: 0.6328333\ttotal: 2.34ms\tremaining: 4.68ms\n",
      "1:\tlearn: 0.5830127\ttotal: 3.14ms\tremaining: 1.57ms\n",
      "2:\tlearn: 0.5458046\ttotal: 5.23ms\tremaining: 0us\n",
      "0:\tlearn: 0.6289022\ttotal: 2.46ms\tremaining: 4.93ms\n",
      "1:\tlearn: 0.5784575\ttotal: 3.75ms\tremaining: 1.87ms\n",
      "2:\tlearn: 0.5411617\ttotal: 6.42ms\tremaining: 0us\n",
      "0:\tlearn: 0.6314653\ttotal: 2.67ms\tremaining: 5.34ms\n",
      "1:\tlearn: 0.5830638\ttotal: 3.49ms\tremaining: 1.75ms\n",
      "2:\tlearn: 0.5457086\ttotal: 5.76ms\tremaining: 0us\n",
      "0:\tlearn: 0.6261206\ttotal: 2.29ms\tremaining: 4.58ms\n",
      "1:\tlearn: 0.5738216\ttotal: 3.48ms\tremaining: 1.74ms\n",
      "2:\tlearn: 0.5362678\ttotal: 5.94ms\tremaining: 0us\n",
      "0:\tlearn: 0.6295001\ttotal: 2.46ms\tremaining: 4.91ms\n",
      "1:\tlearn: 0.5828159\ttotal: 4.66ms\tremaining: 2.33ms\n",
      "2:\tlearn: 0.5536456\ttotal: 5.29ms\tremaining: 0us\n",
      "0:\tlearn: 0.6616538\ttotal: 3.94ms\tremaining: 7.88ms\n",
      "1:\tlearn: 0.6320084\ttotal: 5.5ms\tremaining: 2.75ms\n",
      "2:\tlearn: 0.6116329\ttotal: 30.7ms\tremaining: 0us\n",
      "0:\tlearn: 0.6595477\ttotal: 2.06ms\tremaining: 4.13ms\n",
      "1:\tlearn: 0.6280475\ttotal: 2.82ms\tremaining: 1.41ms\n",
      "2:\tlearn: 0.6015548\ttotal: 4.77ms\tremaining: 0us\n",
      "0:\tlearn: 0.6609261\ttotal: 2.57ms\tremaining: 5.15ms\n",
      "1:\tlearn: 0.6307665\ttotal: 3.45ms\tremaining: 1.72ms\n",
      "2:\tlearn: 0.6044950\ttotal: 5.52ms\tremaining: 0us\n",
      "0:\tlearn: 0.6580932\ttotal: 2.07ms\tremaining: 4.13ms\n",
      "1:\tlearn: 0.6254057\ttotal: 2.81ms\tremaining: 1.41ms\n",
      "2:\tlearn: 0.5982095\ttotal: 4.77ms\tremaining: 0us\n",
      "0:\tlearn: 0.6598635\ttotal: 2.37ms\tremaining: 4.74ms\n",
      "1:\tlearn: 0.6313573\ttotal: 6.57ms\tremaining: 3.29ms\n",
      "2:\tlearn: 0.6061425\ttotal: 7.73ms\tremaining: 0us\n",
      "0:\tlearn: 0.6194158\ttotal: 3.79ms\tremaining: 30.4ms\n",
      "1:\tlearn: 0.5652464\ttotal: 5.04ms\tremaining: 17.6ms\n",
      "2:\tlearn: 0.5369797\ttotal: 8.6ms\tremaining: 17.2ms\n",
      "3:\tlearn: 0.5146201\ttotal: 9.26ms\tremaining: 11.6ms\n",
      "4:\tlearn: 0.4887935\ttotal: 12.8ms\tremaining: 10.3ms\n",
      "5:\tlearn: 0.4731737\ttotal: 16.3ms\tremaining: 8.16ms\n",
      "6:\tlearn: 0.4585700\ttotal: 19.7ms\tremaining: 5.62ms\n",
      "7:\tlearn: 0.4456199\ttotal: 23.1ms\tremaining: 2.88ms\n",
      "8:\tlearn: 0.4397530\ttotal: 24ms\tremaining: 0us\n",
      "0:\tlearn: 0.6146756\ttotal: 15.1ms\tremaining: 121ms\n",
      "1:\tlearn: 0.5584286\ttotal: 15.9ms\tremaining: 55.8ms\n",
      "2:\tlearn: 0.5191696\ttotal: 18ms\tremaining: 36ms\n",
      "3:\tlearn: 0.4944731\ttotal: 21.6ms\tremaining: 27.1ms\n",
      "4:\tlearn: 0.4745532\ttotal: 25.1ms\tremaining: 20.1ms\n",
      "5:\tlearn: 0.4637981\ttotal: 26.3ms\tremaining: 13.1ms\n",
      "6:\tlearn: 0.4499371\ttotal: 28.1ms\tremaining: 8.04ms\n",
      "7:\tlearn: 0.4385301\ttotal: 31.7ms\tremaining: 3.97ms\n",
      "8:\tlearn: 0.4267899\ttotal: 35.3ms\tremaining: 0us\n",
      "0:\tlearn: 0.6177602\ttotal: 3.23ms\tremaining: 25.8ms\n",
      "1:\tlearn: 0.5637383\ttotal: 4.16ms\tremaining: 14.6ms\n",
      "2:\tlearn: 0.5241962\ttotal: 6.3ms\tremaining: 12.6ms\n",
      "3:\tlearn: 0.5028038\ttotal: 9.78ms\tremaining: 12.2ms\n",
      "4:\tlearn: 0.4854806\ttotal: 13.3ms\tremaining: 10.6ms\n",
      "5:\tlearn: 0.4741282\ttotal: 14.3ms\tremaining: 7.14ms\n",
      "6:\tlearn: 0.4602682\ttotal: 16.6ms\tremaining: 4.75ms\n",
      "7:\tlearn: 0.4516681\ttotal: 20.2ms\tremaining: 2.53ms\n",
      "8:\tlearn: 0.4436321\ttotal: 24.1ms\tremaining: 0us\n",
      "0:\tlearn: 0.6112774\ttotal: 2.4ms\tremaining: 19.2ms\n",
      "1:\tlearn: 0.5529859\ttotal: 3.23ms\tremaining: 11.3ms\n",
      "2:\tlearn: 0.5129156\ttotal: 5.37ms\tremaining: 10.7ms\n",
      "3:\tlearn: 0.4855026\ttotal: 8.91ms\tremaining: 11.1ms\n",
      "4:\tlearn: 0.4647333\ttotal: 12.3ms\tremaining: 9.87ms\n",
      "5:\tlearn: 0.4520924\ttotal: 13.3ms\tremaining: 6.65ms\n",
      "6:\tlearn: 0.4394796\ttotal: 14.8ms\tremaining: 4.23ms\n",
      "7:\tlearn: 0.4288143\ttotal: 18.2ms\tremaining: 2.27ms\n",
      "8:\tlearn: 0.4186604\ttotal: 21.6ms\tremaining: 0us\n",
      "0:\tlearn: 0.6154022\ttotal: 12.4ms\tremaining: 99.4ms\n",
      "1:\tlearn: 0.5626868\ttotal: 16ms\tremaining: 56.1ms\n",
      "2:\tlearn: 0.5251490\ttotal: 17.1ms\tremaining: 34.3ms\n",
      "3:\tlearn: 0.5052388\ttotal: 17.8ms\tremaining: 22.3ms\n",
      "4:\tlearn: 0.4859759\ttotal: 18.7ms\tremaining: 14.9ms\n",
      "5:\tlearn: 0.4779566\ttotal: 19.2ms\tremaining: 9.6ms\n",
      "6:\tlearn: 0.4638056\ttotal: 20.3ms\tremaining: 5.79ms\n",
      "7:\tlearn: 0.4545920\ttotal: 21.4ms\tremaining: 2.67ms\n",
      "8:\tlearn: 0.4435545\ttotal: 24.8ms\tremaining: 0us\n",
      "0:\tlearn: 0.6194158\ttotal: 4.23ms\tremaining: 33.9ms\n",
      "1:\tlearn: 0.5652464\ttotal: 5.66ms\tremaining: 19.8ms\n",
      "2:\tlearn: 0.5386714\ttotal: 29.5ms\tremaining: 59.1ms\n",
      "3:\tlearn: 0.5084025\ttotal: 30.3ms\tremaining: 37.8ms\n",
      "4:\tlearn: 0.4879151\ttotal: 42.7ms\tremaining: 34.2ms\n",
      "5:\tlearn: 0.4724012\ttotal: 43.6ms\tremaining: 21.8ms\n",
      "6:\tlearn: 0.4642997\ttotal: 44.4ms\tremaining: 12.7ms\n",
      "7:\tlearn: 0.4523328\ttotal: 45.7ms\tremaining: 5.71ms\n",
      "8:\tlearn: 0.4407539\ttotal: 49.4ms\tremaining: 0us\n",
      "0:\tlearn: 0.6146756\ttotal: 2.06ms\tremaining: 16.5ms\n",
      "1:\tlearn: 0.5584286\ttotal: 2.74ms\tremaining: 9.58ms\n",
      "2:\tlearn: 0.5191696\ttotal: 4.67ms\tremaining: 9.34ms\n",
      "3:\tlearn: 0.4944731\ttotal: 8.21ms\tremaining: 10.3ms\n",
      "4:\tlearn: 0.4757768\ttotal: 20.3ms\tremaining: 16.3ms\n",
      "5:\tlearn: 0.4662142\ttotal: 20.9ms\tremaining: 10.5ms\n",
      "6:\tlearn: 0.4519151\ttotal: 22.2ms\tremaining: 6.35ms\n",
      "7:\tlearn: 0.4403314\ttotal: 25.7ms\tremaining: 3.21ms\n"
     ]
    },
    {
     "name": "stdout",
     "output_type": "stream",
     "text": [
      "8:\tlearn: 0.4311895\ttotal: 116ms\tremaining: 0us\n",
      "0:\tlearn: 0.6177602\ttotal: 3.31ms\tremaining: 26.5ms\n",
      "1:\tlearn: 0.5637383\ttotal: 4.15ms\tremaining: 14.5ms\n",
      "2:\tlearn: 0.5241962\ttotal: 6.15ms\tremaining: 12.3ms\n",
      "3:\tlearn: 0.5028038\ttotal: 9.86ms\tremaining: 12.3ms\n",
      "4:\tlearn: 0.4858854\ttotal: 22.4ms\tremaining: 17.9ms\n",
      "5:\tlearn: 0.4762596\ttotal: 23ms\tremaining: 11.5ms\n",
      "6:\tlearn: 0.4610643\ttotal: 25ms\tremaining: 7.15ms\n",
      "7:\tlearn: 0.4524828\ttotal: 37.3ms\tremaining: 4.67ms\n",
      "8:\tlearn: 0.4460166\ttotal: 40.9ms\tremaining: 0us\n",
      "0:\tlearn: 0.6112774\ttotal: 1.95ms\tremaining: 15.6ms\n",
      "1:\tlearn: 0.5529859\ttotal: 3.04ms\tremaining: 10.6ms\n",
      "2:\tlearn: 0.5129156\ttotal: 5.25ms\tremaining: 10.5ms\n",
      "3:\tlearn: 0.4855026\ttotal: 8.99ms\tremaining: 11.2ms\n",
      "4:\tlearn: 0.4658632\ttotal: 21.7ms\tremaining: 17.3ms\n",
      "5:\tlearn: 0.4552227\ttotal: 22.3ms\tremaining: 11.1ms\n",
      "6:\tlearn: 0.4422527\ttotal: 23.5ms\tremaining: 6.73ms\n",
      "7:\tlearn: 0.4310617\ttotal: 27.2ms\tremaining: 3.4ms\n",
      "8:\tlearn: 0.4214334\ttotal: 118ms\tremaining: 0us\n",
      "0:\tlearn: 0.6154022\ttotal: 1.96ms\tremaining: 15.6ms\n",
      "1:\tlearn: 0.5626868\ttotal: 6.27ms\tremaining: 21.9ms\n",
      "2:\tlearn: 0.5251490\ttotal: 7.46ms\tremaining: 14.9ms\n",
      "3:\tlearn: 0.5052388\ttotal: 8.16ms\tremaining: 10.2ms\n",
      "4:\tlearn: 0.4859759\ttotal: 9.01ms\tremaining: 7.21ms\n",
      "5:\tlearn: 0.4779566\ttotal: 9.58ms\tremaining: 4.79ms\n",
      "6:\tlearn: 0.4638056\ttotal: 10.7ms\tremaining: 3.07ms\n",
      "7:\tlearn: 0.4545920\ttotal: 11.8ms\tremaining: 1.48ms\n",
      "8:\tlearn: 0.4441027\ttotal: 103ms\tremaining: 0us\n",
      "0:\tlearn: 0.6616538\ttotal: 3.69ms\tremaining: 22.1ms\n",
      "1:\tlearn: 0.6320084\ttotal: 4.9ms\tremaining: 12.2ms\n",
      "2:\tlearn: 0.6116329\ttotal: 28.5ms\tremaining: 38ms\n",
      "3:\tlearn: 0.5902673\ttotal: 30ms\tremaining: 22.5ms\n",
      "4:\tlearn: 0.5702513\ttotal: 32ms\tremaining: 12.8ms\n",
      "5:\tlearn: 0.5540544\ttotal: 32.8ms\tremaining: 5.47ms\n",
      "6:\tlearn: 0.5425024\ttotal: 33.7ms\tremaining: 0us\n",
      "0:\tlearn: 0.6595477\ttotal: 2.05ms\tremaining: 12.3ms\n",
      "1:\tlearn: 0.6280475\ttotal: 2.74ms\tremaining: 6.86ms\n",
      "2:\tlearn: 0.6015548\ttotal: 4.74ms\tremaining: 6.32ms\n",
      "3:\tlearn: 0.5812046\ttotal: 8.3ms\tremaining: 6.23ms\n",
      "4:\tlearn: 0.5636958\ttotal: 20.5ms\tremaining: 8.22ms\n",
      "5:\tlearn: 0.5498158\ttotal: 22.1ms\tremaining: 3.69ms\n",
      "6:\tlearn: 0.5335449\ttotal: 23.5ms\tremaining: 0us\n",
      "0:\tlearn: 0.6609261\ttotal: 2.11ms\tremaining: 12.6ms\n",
      "1:\tlearn: 0.6307665\ttotal: 2.81ms\tremaining: 7.04ms\n",
      "2:\tlearn: 0.6044950\ttotal: 4.8ms\tremaining: 6.4ms\n",
      "3:\tlearn: 0.5851260\ttotal: 8.52ms\tremaining: 6.39ms\n",
      "4:\tlearn: 0.5694249\ttotal: 20.9ms\tremaining: 8.34ms\n",
      "5:\tlearn: 0.5561071\ttotal: 21.5ms\tremaining: 3.58ms\n",
      "6:\tlearn: 0.5402462\ttotal: 22.8ms\tremaining: 0us\n",
      "0:\tlearn: 0.6580932\ttotal: 2.52ms\tremaining: 15.1ms\n",
      "1:\tlearn: 0.6254057\ttotal: 3.27ms\tremaining: 8.17ms\n",
      "2:\tlearn: 0.5982095\ttotal: 5.26ms\tremaining: 7.02ms\n",
      "3:\tlearn: 0.5755525\ttotal: 9.08ms\tremaining: 6.81ms\n",
      "4:\tlearn: 0.5566644\ttotal: 21.4ms\tremaining: 8.55ms\n",
      "5:\tlearn: 0.5422179\ttotal: 22ms\tremaining: 3.67ms\n",
      "6:\tlearn: 0.5261855\ttotal: 23.4ms\tremaining: 0us\n",
      "0:\tlearn: 0.6598635\ttotal: 2ms\tremaining: 12ms\n",
      "1:\tlearn: 0.6313573\ttotal: 5.64ms\tremaining: 14.1ms\n",
      "2:\tlearn: 0.6061425\ttotal: 6.64ms\tremaining: 8.86ms\n",
      "3:\tlearn: 0.5878628\ttotal: 7.32ms\tremaining: 5.49ms\n",
      "4:\tlearn: 0.5714295\ttotal: 9.26ms\tremaining: 3.7ms\n",
      "5:\tlearn: 0.5552679\ttotal: 10.1ms\tremaining: 1.68ms\n",
      "6:\tlearn: 0.5445483\ttotal: 10.6ms\tremaining: 0us\n",
      "0:\tlearn: 0.6137731\ttotal: 2.41ms\tremaining: 19.3ms\n",
      "1:\tlearn: 0.5584465\ttotal: 3.21ms\tremaining: 11.2ms\n",
      "2:\tlearn: 0.5183237\ttotal: 5.3ms\tremaining: 10.6ms\n",
      "3:\tlearn: 0.4931899\ttotal: 8.8ms\tremaining: 11ms\n",
      "4:\tlearn: 0.4723773\ttotal: 12.2ms\tremaining: 9.73ms\n",
      "5:\tlearn: 0.4614931\ttotal: 13.1ms\tremaining: 6.54ms\n",
      "6:\tlearn: 0.4494622\ttotal: 14.5ms\tremaining: 4.15ms\n",
      "7:\tlearn: 0.4380564\ttotal: 17.9ms\tremaining: 2.24ms\n",
      "8:\tlearn: 0.4281264\ttotal: 21.3ms\tremaining: 0us\n",
      "{'max_depth': 8, 'learning_rate': 0.25, 'iterations': 9}\n",
      "0.8100558659217877\n"
     ]
    }
   ],
   "source": [
    "# CatBoost Parameters\n",
    "cb_grid = {\n",
    "    'learning_rate' : np.arange(0.05,0.31,.05),\n",
    "    'max_depth' : np.arange(5,16,1),\n",
    "    'iterations': np.arange(1,10,2)\n",
    "}\n",
    "\n",
    "np.random.seed(42)\n",
    "rs_cb = RandomizedSearchCV(CatBoostClassifier(),\n",
    "                           param_distributions = cb_grid,\n",
    "                           cv=5,\n",
    "                           n_iter = 10,\n",
    "                           verbose=False)\n",
    "\n",
    "rs_cb.fit(X_train,y_train)\n",
    "print(rs_cb.best_params_)\n",
    "print(rs_lr.score(X_test,y_test))"
   ]
  },
  {
   "cell_type": "code",
   "execution_count": 88,
   "metadata": {},
   "outputs": [
    {
     "name": "stderr",
     "output_type": "stream",
     "text": [
      "C:\\Users\\Ethan\\Desktop\\data_science\\env\\lib\\site-packages\\sklearn\\model_selection\\_validation.py:552: FitFailedWarning: Estimator fit failed. The score on this train-test partition for these parameters will be set to nan. Details: \n",
      "Traceback (most recent call last):\n",
      "  File \"C:\\Users\\Ethan\\Desktop\\data_science\\env\\lib\\site-packages\\sklearn\\model_selection\\_validation.py\", line 531, in _fit_and_score\n",
      "    estimator.fit(X_train, y_train, **fit_params)\n",
      "  File \"C:\\Users\\Ethan\\Desktop\\data_science\\env\\lib\\site-packages\\xgboost\\sklearn.py\", line 824, in fit\n",
      "    callbacks=callbacks)\n",
      "  File \"C:\\Users\\Ethan\\Desktop\\data_science\\env\\lib\\site-packages\\xgboost\\training.py\", line 212, in train\n",
      "    xgb_model=xgb_model, callbacks=callbacks)\n",
      "  File \"C:\\Users\\Ethan\\Desktop\\data_science\\env\\lib\\site-packages\\xgboost\\training.py\", line 75, in _train_internal\n",
      "    bst.update(dtrain, i, obj)\n",
      "  File \"C:\\Users\\Ethan\\Desktop\\data_science\\env\\lib\\site-packages\\xgboost\\core.py\", line 1369, in update\n",
      "    dtrain.handle))\n",
      "  File \"C:\\Users\\Ethan\\Desktop\\data_science\\env\\lib\\site-packages\\xgboost\\core.py\", line 190, in _check_call\n",
      "    raise XGBoostError(py_str(_LIB.XGBGetLastError()))\n",
      "xgboost.core.XGBoostError: Invalid Parameter format for subsample expect float but value='subsample'\n",
      "\n",
      "  FitFailedWarning)\n"
     ]
    },
    {
     "name": "stdout",
     "output_type": "stream",
     "text": [
      "{'subsample': 0.8, 'min_child_weight': 6, 'max_depth': 10, 'learning_rate': 0.05}\n",
      "0.8379888268156425\n"
     ]
    }
   ],
   "source": [
    "# XGBoost Parameters\n",
    "xg_grid = {\n",
    "    'learning_rate': np.arange(0.05, 0.31, 0.05),\n",
    "    'max_depth': np.arange(5, 16, 1),\n",
    "    'min_child_weight': np.arange(1, 8, 1),\n",
    "    'subsample':('subsample', 0.8, 1),\n",
    "}\n",
    "\n",
    "np.random.seed(42)\n",
    "rs_xg = RandomizedSearchCV(xgb.XGBClassifier(),\n",
    "                            param_distributions = xg_grid,\n",
    "                            cv = 5,\n",
    "                            n_iter = 10,\n",
    "                            verbose = False)\n",
    "\n",
    "rs_xg.fit(X_train,y_train)\n",
    "print(rs_xg.best_params_)\n",
    "print(rs_xg.score(X_test,y_test))"
   ]
  },
  {
   "cell_type": "markdown",
   "metadata": {},
   "source": [
    "It looks like I have similar accuracies for all of my models after hyperparameter tuning which appears to be the direct result of Sex being such an important variable, because it is such an important value for survival most of my models are just assuming the majority of men die and majority of women live, which gives us about an 80% accuracy rate simply by guessing that.\n",
    "\n",
    "At First I removed all variables besides sex, age and passenger class, then I reran all the models with sibch and parch which gave me a finalized model accuracy of 84%, Which I will use on the test data and upload to Kaggle (along with testing whether or not any of my friends/family members would have made it :D)"
   ]
  },
  {
   "cell_type": "code",
   "execution_count": 90,
   "metadata": {},
   "outputs": [],
   "source": [
    "# Let's save the model for future use\n",
    "import pickle\n",
    "pickle.dump(rs_xg, open('titanic_model.sav', 'wb'))"
   ]
  },
  {
   "cell_type": "code",
   "execution_count": 122,
   "metadata": {},
   "outputs": [
    {
     "data": {
      "text/html": [
       "<div>\n",
       "<style scoped>\n",
       "    .dataframe tbody tr th:only-of-type {\n",
       "        vertical-align: middle;\n",
       "    }\n",
       "\n",
       "    .dataframe tbody tr th {\n",
       "        vertical-align: top;\n",
       "    }\n",
       "\n",
       "    .dataframe thead th {\n",
       "        text-align: right;\n",
       "    }\n",
       "</style>\n",
       "<table border=\"1\" class=\"dataframe\">\n",
       "  <thead>\n",
       "    <tr style=\"text-align: right;\">\n",
       "      <th></th>\n",
       "      <th>PassengerId</th>\n",
       "      <th>Pclass</th>\n",
       "      <th>Sex</th>\n",
       "      <th>Age</th>\n",
       "      <th>SibSp</th>\n",
       "      <th>Parch</th>\n",
       "      <th>Fare</th>\n",
       "      <th>Embarked</th>\n",
       "    </tr>\n",
       "  </thead>\n",
       "  <tbody>\n",
       "    <tr>\n",
       "      <th>0</th>\n",
       "      <td>892</td>\n",
       "      <td>3</td>\n",
       "      <td>0</td>\n",
       "      <td>34.5</td>\n",
       "      <td>0</td>\n",
       "      <td>0</td>\n",
       "      <td>7.8292</td>\n",
       "      <td>2</td>\n",
       "    </tr>\n",
       "    <tr>\n",
       "      <th>1</th>\n",
       "      <td>893</td>\n",
       "      <td>3</td>\n",
       "      <td>1</td>\n",
       "      <td>47.0</td>\n",
       "      <td>1</td>\n",
       "      <td>0</td>\n",
       "      <td>7.0000</td>\n",
       "      <td>0</td>\n",
       "    </tr>\n",
       "    <tr>\n",
       "      <th>2</th>\n",
       "      <td>894</td>\n",
       "      <td>2</td>\n",
       "      <td>0</td>\n",
       "      <td>62.0</td>\n",
       "      <td>0</td>\n",
       "      <td>0</td>\n",
       "      <td>9.6875</td>\n",
       "      <td>2</td>\n",
       "    </tr>\n",
       "    <tr>\n",
       "      <th>3</th>\n",
       "      <td>895</td>\n",
       "      <td>3</td>\n",
       "      <td>0</td>\n",
       "      <td>27.0</td>\n",
       "      <td>0</td>\n",
       "      <td>0</td>\n",
       "      <td>8.6625</td>\n",
       "      <td>0</td>\n",
       "    </tr>\n",
       "    <tr>\n",
       "      <th>4</th>\n",
       "      <td>896</td>\n",
       "      <td>3</td>\n",
       "      <td>1</td>\n",
       "      <td>22.0</td>\n",
       "      <td>1</td>\n",
       "      <td>1</td>\n",
       "      <td>12.2875</td>\n",
       "      <td>0</td>\n",
       "    </tr>\n",
       "  </tbody>\n",
       "</table>\n",
       "</div>"
      ],
      "text/plain": [
       "   PassengerId  Pclass  Sex   Age  SibSp  Parch     Fare  Embarked\n",
       "0          892       3    0  34.5      0      0   7.8292         2\n",
       "1          893       3    1  47.0      1      0   7.0000         0\n",
       "2          894       2    0  62.0      0      0   9.6875         2\n",
       "3          895       3    0  27.0      0      0   8.6625         0\n",
       "4          896       3    1  22.0      1      1  12.2875         0"
      ]
     },
     "execution_count": 122,
     "metadata": {},
     "output_type": "execute_result"
    }
   ],
   "source": [
    "test_df = pd.read_csv('test.csv')\n",
    "test_df = clean_dataframe(test_df)\n",
    "test_df.head()"
   ]
  },
  {
   "cell_type": "code",
   "execution_count": 123,
   "metadata": {},
   "outputs": [],
   "source": [
    "# Get the same data for the other one\n",
    "rdf = test_df.drop(['Fare','Embarked'],axis=1)"
   ]
  },
  {
   "cell_type": "code",
   "execution_count": 124,
   "metadata": {},
   "outputs": [],
   "source": [
    "preds = rs_xg.predict(rdf)"
   ]
  },
  {
   "cell_type": "code",
   "execution_count": 125,
   "metadata": {},
   "outputs": [
    {
     "name": "stdout",
     "output_type": "stream",
     "text": [
      "[0 0 0 0 0 0 0 0 0 0 0 0 1 0 1 1 0 0 0 0 0 1 1 0 1 0 1 0 0 0 0 0 0 0 0 0 1\n",
      " 1 0 0 0 0 0 1 1 0 0 0 1 0 0 0 1 1 0 0 0 0 0 1 0 0 0 1 1 1 0 0 0 1 1 0 1 0\n",
      " 1 0 0 1 0 1 1 0 0 0 0 0 1 0 1 1 0 0 1 0 0 0 1 0 1 0 1 0 0 0 0 0 0 0 0 0 0\n",
      " 1 1 0 1 0 0 1 0 1 1 0 1 0 0 0 0 0 0 0 0 0 1 0 0 0 0 0 1 0 0 1 0 0 0 0 0 0\n",
      " 0 0 1 0 0 0 0 0 1 1 0 0 1 1 1 0 0 0 0 0 1 1 0 0 0 0 0 1 1 0 1 1 0 0 1 0 1\n",
      " 0 1 0 0 0 0 0 1 0 1 0 1 0 0 1 1 1 0 1 0 0 0 0 1 0 0 0 0 1 0 0 1 0 1 0 1 0\n",
      " 1 0 1 1 0 1 0 0 0 1 0 0 0 0 0 0 1 1 1 1 0 0 0 0 1 0 1 0 1 0 0 0 0 0 0 0 1\n",
      " 0 0 0 1 1 0 0 0 0 1 0 0 0 1 0 0 1 0 0 0 0 1 1 1 0 1 0 0 0 0 0 0 0 0 0 0 0\n",
      " 1 0 0 0 0 0 0 0 1 1 0 1 0 0 0 0 0 0 1 0 0 0 0 0 0 0 0 0 1 0 1 0 0 0 1 0 0\n",
      " 0 0 0 0 0 0 0 0 0 0 1 0 1 0 0 0 1 1 0 0 0 1 0 1 0 0 0 0 1 1 0 1 0 0 1 1 0\n",
      " 0 1 0 0 1 1 0 0 0 0 0 0 1 0 0 1 0 0 0 0 0 1 0 0 0 1 0 1 0 0 1 0 1 0 0 0 0\n",
      " 0 1 1 1 1 1 0 1 0 0 0]\n"
     ]
    }
   ],
   "source": [
    "print(preds)"
   ]
  },
  {
   "cell_type": "code",
   "execution_count": 126,
   "metadata": {},
   "outputs": [],
   "source": [
    "test_df['Survived'] = preds"
   ]
  },
  {
   "cell_type": "code",
   "execution_count": 127,
   "metadata": {},
   "outputs": [],
   "source": [
    "survived = pd.Series(preds)"
   ]
  },
  {
   "cell_type": "code",
   "execution_count": 131,
   "metadata": {},
   "outputs": [],
   "source": [
    "final = test_df.drop(columns=['Pclass','Sex','Age','SibSp','Parch','Fare','Embarked'])"
   ]
  },
  {
   "cell_type": "code",
   "execution_count": 135,
   "metadata": {},
   "outputs": [],
   "source": [
    "final.to_csv('submission.csv',index=False)"
   ]
  },
  {
   "cell_type": "code",
   "execution_count": 136,
   "metadata": {},
   "outputs": [
    {
     "data": {
      "text/plain": [
       "0    266\n",
       "1    152\n",
       "Name: Sex, dtype: int64"
      ]
     },
     "execution_count": 136,
     "metadata": {},
     "output_type": "execute_result"
    }
   ],
   "source": [
    "test_df['Sex'].value_counts()"
   ]
  },
  {
   "cell_type": "code",
   "execution_count": 137,
   "metadata": {},
   "outputs": [
    {
     "data": {
      "text/plain": [
       "0    292\n",
       "1    126\n",
       "Name: Survived, dtype: int64"
      ]
     },
     "execution_count": 137,
     "metadata": {},
     "output_type": "execute_result"
    }
   ],
   "source": [
    "final['Survived'].value_counts()"
   ]
  },
  {
   "cell_type": "markdown",
   "metadata": {},
   "source": [
    "My model is doing more than simply assuming all men will die and all women survive which is good.\n",
    "After submitting my final project to Kaggle it scored it at 77.5% accurate, which is pretty good for a first attempt, though it doesn't quite achieve the 80% which I set for my goal.\n",
    "\n",
    "Now let's continue with a new file to see who makes it out of my friends and family"
   ]
  },
  {
   "cell_type": "code",
   "execution_count": 147,
   "metadata": {},
   "outputs": [
    {
     "data": {
      "text/html": [
       "<div>\n",
       "<style scoped>\n",
       "    .dataframe tbody tr th:only-of-type {\n",
       "        vertical-align: middle;\n",
       "    }\n",
       "\n",
       "    .dataframe tbody tr th {\n",
       "        vertical-align: top;\n",
       "    }\n",
       "\n",
       "    .dataframe thead th {\n",
       "        text-align: right;\n",
       "    }\n",
       "</style>\n",
       "<table border=\"1\" class=\"dataframe\">\n",
       "  <thead>\n",
       "    <tr style=\"text-align: right;\">\n",
       "      <th></th>\n",
       "      <th>PassengerId</th>\n",
       "      <th>Pclass</th>\n",
       "      <th>Name</th>\n",
       "      <th>Sex</th>\n",
       "      <th>Age</th>\n",
       "      <th>SibSp</th>\n",
       "      <th>Parch</th>\n",
       "    </tr>\n",
       "  </thead>\n",
       "  <tbody>\n",
       "    <tr>\n",
       "      <th>0</th>\n",
       "      <td>892</td>\n",
       "      <td>3</td>\n",
       "      <td>Ethan Chavez</td>\n",
       "      <td>0</td>\n",
       "      <td>25.7</td>\n",
       "      <td>3</td>\n",
       "      <td>2</td>\n",
       "    </tr>\n",
       "  </tbody>\n",
       "</table>\n",
       "</div>"
      ],
      "text/plain": [
       "   PassengerId  Pclass          Name  Sex   Age  SibSp  Parch\n",
       "0          892       3  Ethan Chavez    0  25.7      3      2"
      ]
     },
     "execution_count": 147,
     "metadata": {},
     "output_type": "execute_result"
    }
   ],
   "source": [
    "fdf = pd.read_csv('friends.csv')\n",
    "fdf.head(1)"
   ]
  },
  {
   "cell_type": "code",
   "execution_count": 139,
   "metadata": {},
   "outputs": [],
   "source": [
    "test = fdf.drop(columns=['Name'])"
   ]
  },
  {
   "cell_type": "code",
   "execution_count": 140,
   "metadata": {},
   "outputs": [
    {
     "data": {
      "text/plain": [
       "array([0, 0, 0, 0, 0, 1, 0, 0, 0, 0, 0, 0, 0, 0, 0, 0, 0, 1, 0, 0, 1, 1,\n",
       "       0, 0, 0], dtype=int64)"
      ]
     },
     "execution_count": 140,
     "metadata": {},
     "output_type": "execute_result"
    }
   ],
   "source": [
    "predictions = preds = rs_xg.predict(test)\n",
    "predictions"
   ]
  },
  {
   "cell_type": "code",
   "execution_count": 141,
   "metadata": {},
   "outputs": [],
   "source": [
    "fdf['Survived'] = predictions"
   ]
  },
  {
   "cell_type": "code",
   "execution_count": 145,
   "metadata": {},
   "outputs": [
    {
     "data": {
      "text/html": [
       "<div>\n",
       "<style scoped>\n",
       "    .dataframe tbody tr th:only-of-type {\n",
       "        vertical-align: middle;\n",
       "    }\n",
       "\n",
       "    .dataframe tbody tr th {\n",
       "        vertical-align: top;\n",
       "    }\n",
       "\n",
       "    .dataframe thead th {\n",
       "        text-align: right;\n",
       "    }\n",
       "</style>\n",
       "<table border=\"1\" class=\"dataframe\">\n",
       "  <thead>\n",
       "    <tr style=\"text-align: right;\">\n",
       "      <th></th>\n",
       "      <th>PassengerId</th>\n",
       "      <th>Pclass</th>\n",
       "      <th>Name</th>\n",
       "      <th>Sex</th>\n",
       "      <th>Age</th>\n",
       "      <th>SibSp</th>\n",
       "      <th>Parch</th>\n",
       "      <th>Survived</th>\n",
       "    </tr>\n",
       "  </thead>\n",
       "  <tbody>\n",
       "    <tr>\n",
       "      <th>0</th>\n",
       "      <td>892</td>\n",
       "      <td>3</td>\n",
       "      <td>Ethan Chavez</td>\n",
       "      <td>0</td>\n",
       "      <td>25.7</td>\n",
       "      <td>3</td>\n",
       "      <td>2</td>\n",
       "      <td>0</td>\n",
       "    </tr>\n",
       "  </tbody>\n",
       "</table>\n",
       "</div>"
      ],
      "text/plain": [
       "   PassengerId  Pclass          Name  Sex   Age  SibSp  Parch  Survived\n",
       "0          892       3  Ethan Chavez    0  25.7      3      2         0"
      ]
     },
     "execution_count": 145,
     "metadata": {},
     "output_type": "execute_result"
    }
   ],
   "source": [
    "fdf.head(1)"
   ]
  },
  {
   "cell_type": "code",
   "execution_count": 143,
   "metadata": {},
   "outputs": [],
   "source": [
    "fdf.to_csv('friends_survived.csv',index=False)"
   ]
  },
  {
   "cell_type": "markdown",
   "metadata": {},
   "source": [
    "# Oh dear it appears I have died"
   ]
  }
 ],
 "metadata": {
  "kernelspec": {
   "display_name": "Python 3",
   "language": "python",
   "name": "python3"
  },
  "language_info": {
   "codemirror_mode": {
    "name": "ipython",
    "version": 3
   },
   "file_extension": ".py",
   "mimetype": "text/x-python",
   "name": "python",
   "nbconvert_exporter": "python",
   "pygments_lexer": "ipython3",
   "version": "3.7.7"
  }
 },
 "nbformat": 4,
 "nbformat_minor": 4
}
